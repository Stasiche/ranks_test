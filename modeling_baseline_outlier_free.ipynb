{
 "cells": [
  {
   "cell_type": "code",
   "execution_count": 1,
   "metadata": {
    "collapsed": true,
    "pycharm": {
     "name": "#%%\n"
    }
   },
   "outputs": [],
   "source": [
    "import pandas as pd\n",
    "import numpy as np\n",
    "from os.path import join\n",
    "import matplotlib.pyplot as plt"
   ]
  },
  {
   "cell_type": "code",
   "execution_count": 2,
   "outputs": [],
   "source": [
    "def evaluate(model, X, gt_df):\n",
    "    pred = model.predict(X)\n",
    "    answ = pd.concat([gt_df.reset_index()[['Date_round', 'Perf_1Y']], pd.Series(pred, name='pred')],axis=1)\n",
    "    gts = answ.groupby('Date_round').apply(lambda x: x.Perf_1Y.to_numpy())\n",
    "    preds = answ.groupby('Date_round').apply(lambda x: x.pred.to_numpy())\n",
    "    concated_gts_preds = pd.concat([gts, preds], axis=1)\n",
    "\n",
    "    rmse = concated_gts_preds.apply(lambda x: np.sqrt(mean_squared_error(x[0], x[1])), axis=1)\n",
    "    p_pred = concated_gts_preds.apply(lambda x: ((x[0] * x[1]) > 0).sum()/x[0].shape[0], axis=1)\n",
    "    ndcgs = concated_gts_preds.apply(lambda x: ndcg_score([x[0].argsort()[::-1]], [x[1]]), axis=1)\n",
    "\n",
    "    res_df = pd.concat([rmse, p_pred, ndcgs], axis=1)\n",
    "    res_df.columns = ['rmse', 'p_pred', 'ndcgs']\n",
    "    return res_df\n"
   ],
   "metadata": {
    "collapsed": false,
    "pycharm": {
     "name": "#%%\n"
    }
   }
  },
  {
   "cell_type": "code",
   "execution_count": 3,
   "outputs": [],
   "source": [
    "data_path = 'data'"
   ],
   "metadata": {
    "collapsed": false,
    "pycharm": {
     "name": "#%%\n"
    }
   }
  },
  {
   "cell_type": "code",
   "execution_count": 4,
   "outputs": [
    {
     "name": "stdout",
     "output_type": "stream",
     "text": [
      "(1178362, 22)\n"
     ]
    },
    {
     "data": {
      "text/plain": "Price_To_Tangible_Book_Value_Per_Share       0\nC_Price_To_Tangible_Book_Value_Per_Share     0\nPrice_To_Book_Value_Per_Share                0\nC_Price_To_Book_Value_Per_Share              0\nEnterprise_Value_to_Sales                    0\nPrice_To_Sales_Per_Share                     0\nCompany_Shares                               0\nEnterprise_Value                             0\nFree_Cash_Flow_net_of_Dividends_per_Share    0\nC_Price_to_FCF_net_of_Dividends_per_Share    0\nEnterprise_Value_to_EBITDA                   0\nEnterprise_Value_to_Operating_Cash_Flow      0\nPrice_to_Cash_Flow_per_Share                 0\nP_to_E                                       0\nDate_round                                   0\nRanksID                                      0\nPerf_1Y                                      0\ngicsSectorName                               0\ngicsIndustryGroupName                        0\ngicsIndustryName                             0\ngicsSubIndustryName                          0\nCountry_of_Headquarters                      0\ndtype: int64"
     },
     "execution_count": 4,
     "metadata": {},
     "output_type": "execute_result"
    }
   ],
   "source": [
    "data = pd.read_csv(join(data_path, 'clear_outliers.csv'), parse_dates=['Date_round'])\n",
    "print(data.shape)\n",
    "data.isna().sum()"
   ],
   "metadata": {
    "collapsed": false,
    "pycharm": {
     "name": "#%%\n"
    }
   }
  },
  {
   "cell_type": "code",
   "execution_count": 5,
   "outputs": [
    {
     "name": "stdout",
     "output_type": "stream",
     "text": [
      "(232010, 22)\n"
     ]
    },
    {
     "data": {
      "text/plain": "Price_To_Tangible_Book_Value_Per_Share       0\nC_Price_To_Tangible_Book_Value_Per_Share     0\nPrice_To_Book_Value_Per_Share                0\nC_Price_To_Book_Value_Per_Share              0\nEnterprise_Value_to_Sales                    0\nPrice_To_Sales_Per_Share                     0\nCompany_Shares                               0\nEnterprise_Value                             0\nFree_Cash_Flow_net_of_Dividends_per_Share    0\nC_Price_to_FCF_net_of_Dividends_per_Share    0\nEnterprise_Value_to_EBITDA                   0\nEnterprise_Value_to_Operating_Cash_Flow      0\nPrice_to_Cash_Flow_per_Share                 0\nP_to_E                                       0\nDate_round                                   0\nRanksID                                      0\nPerf_1Y                                      0\ngicsSectorName                               0\ngicsIndustryGroupName                        0\ngicsIndustryName                             0\ngicsSubIndustryName                          0\nCountry_of_Headquarters                      0\ndtype: int64"
     },
     "execution_count": 5,
     "metadata": {},
     "output_type": "execute_result"
    }
   ],
   "source": [
    "test = pd.read_csv(join(data_path, 'clear_test_outliers.csv'), parse_dates=['Date_round'])\n",
    "print(test.shape)\n",
    "test.isna().sum()"
   ],
   "metadata": {
    "collapsed": false,
    "pycharm": {
     "name": "#%%\n"
    }
   }
  },
  {
   "cell_type": "code",
   "execution_count": 6,
   "outputs": [],
   "source": [
    "valid_columns = ['Date_round', 'RanksID', 'Perf_1Y', 'Country_of_Headquarters',\n",
    "       'Price_To_Tangible_Book_Value_Per_Share',\n",
    "       'C_Price_To_Tangible_Book_Value_Per_Share',\n",
    "       'Price_To_Book_Value_Per_Share', 'C_Price_To_Book_Value_Per_Share',\n",
    "       'Enterprise_Value_to_Sales', 'Price_To_Sales_Per_Share',\n",
    "       'Company_Shares', 'MCap_group', 'Enterprise_Value', 'gicsSectorName',\n",
    "       'gicsIndustryGroupName', 'gicsIndustryName', 'gicsSubIndustryName',\n",
    "       'Free_Cash_Flow_net_of_Dividends_per_Share',\n",
    "       'C_Price_to_FCF_net_of_Dividends_per_Share',\n",
    "       'Enterprise_Value_to_EBITDA', 'Enterprise_Value_to_Operating_Cash_Flow',\n",
    "       'Price_to_Cash_Flow_per_Share', 'P_to_E']\n",
    "\n",
    "gics_names = ['gicsSectorName', 'gicsIndustryGroupName','gicsIndustryName','gicsSubIndustryName']\n",
    "\n",
    "useless_columns = ['MCap_group']\n",
    "\n",
    "util_columns = ['Date_round', 'RanksID', 'Perf_1Y']\n",
    "cat_columns = gics_names + ['Country_of_Headquarters']\n",
    "reg_columns = [el for el in valid_columns if el not in useless_columns + cat_columns + util_columns]"
   ],
   "metadata": {
    "collapsed": false,
    "pycharm": {
     "name": "#%%\n"
    }
   }
  },
  {
   "cell_type": "code",
   "execution_count": 7,
   "outputs": [],
   "source": [
    "import catboost as cb\n",
    "from sklearn.preprocessing import StandardScaler\n",
    "from sklearn.metrics import mean_squared_error, ndcg_score\n",
    "from sklearn.metrics import r2_score"
   ],
   "metadata": {
    "collapsed": false,
    "pycharm": {
     "name": "#%%\n"
    }
   }
  },
  {
   "cell_type": "code",
   "execution_count": 8,
   "outputs": [
    {
     "name": "stderr",
     "output_type": "stream",
     "text": [
      "/var/folders/6j/p61nyxsx25xd2l5m0h0g5bm80000gn/T/ipykernel_10241/3654358756.py:6: SettingWithCopyWarning: \n",
      "A value is trying to be set on a copy of a slice from a DataFrame.\n",
      "Try using .loc[row_indexer,col_indexer] = value instead\n",
      "\n",
      "See the caveats in the documentation: https://pandas.pydata.org/pandas-docs/stable/user_guide/indexing.html#returning-a-view-versus-a-copy\n",
      "  X_train.loc[:, reg_columns] = scaler.fit_transform(X_train.loc[:, reg_columns].to_numpy())\n",
      "/var/folders/6j/p61nyxsx25xd2l5m0h0g5bm80000gn/T/ipykernel_10241/3654358756.py:7: SettingWithCopyWarning: \n",
      "A value is trying to be set on a copy of a slice from a DataFrame.\n",
      "Try using .loc[row_indexer,col_indexer] = value instead\n",
      "\n",
      "See the caveats in the documentation: https://pandas.pydata.org/pandas-docs/stable/user_guide/indexing.html#returning-a-view-versus-a-copy\n",
      "  X_test.loc[:, reg_columns] = scaler.transform(X_test.loc[:, reg_columns].to_numpy())\n"
     ]
    }
   ],
   "source": [
    "scaler = StandardScaler()\n",
    "\n",
    "X_train, y_train = data[cat_columns + reg_columns], data.Perf_1Y\n",
    "X_test, y_test = test[cat_columns + reg_columns], test.Perf_1Y\n",
    "\n",
    "X_train.loc[:, reg_columns] = scaler.fit_transform(X_train.loc[:, reg_columns].to_numpy())\n",
    "X_test.loc[:, reg_columns] = scaler.transform(X_test.loc[:, reg_columns].to_numpy())\n",
    "\n",
    "train_dataset = cb.Pool(X_train, y_train, cat_features=cat_columns)\n",
    "test_dataset = cb.Pool(X_test, y_test, cat_features=cat_columns)"
   ],
   "metadata": {
    "collapsed": false,
    "pycharm": {
     "name": "#%%\n"
    }
   }
  },
  {
   "cell_type": "code",
   "execution_count": 9,
   "outputs": [
    {
     "name": "stdout",
     "output_type": "stream",
     "text": [
      "0:\tlearn: 0.4080581\ttest: 0.4584398\tbest: 0.4584398 (0)\ttotal: 451ms\tremaining: 22.1s\n",
      "1:\tlearn: 0.4077055\ttest: 0.4583867\tbest: 0.4583867 (1)\ttotal: 757ms\tremaining: 18.2s\n",
      "2:\tlearn: 0.4073799\ttest: 0.4583519\tbest: 0.4583519 (2)\ttotal: 1.05s\tremaining: 16.4s\n",
      "3:\tlearn: 0.4070616\ttest: 0.4583041\tbest: 0.4583041 (3)\ttotal: 1.35s\tremaining: 15.5s\n",
      "4:\tlearn: 0.4067636\ttest: 0.4582699\tbest: 0.4582699 (4)\ttotal: 1.63s\tremaining: 14.7s\n",
      "5:\tlearn: 0.4064873\ttest: 0.4582410\tbest: 0.4582410 (5)\ttotal: 1.91s\tremaining: 14s\n",
      "6:\tlearn: 0.4062213\ttest: 0.4582139\tbest: 0.4582139 (6)\ttotal: 2.25s\tremaining: 13.8s\n",
      "7:\tlearn: 0.4059711\ttest: 0.4581443\tbest: 0.4581443 (7)\ttotal: 2.56s\tremaining: 13.4s\n",
      "8:\tlearn: 0.4057174\ttest: 0.4580747\tbest: 0.4580747 (8)\ttotal: 2.89s\tremaining: 13.2s\n",
      "9:\tlearn: 0.4054777\ttest: 0.4580070\tbest: 0.4580070 (9)\ttotal: 3.19s\tremaining: 12.8s\n",
      "10:\tlearn: 0.4052601\ttest: 0.4580111\tbest: 0.4580070 (9)\ttotal: 3.51s\tremaining: 12.4s\n",
      "11:\tlearn: 0.4050503\ttest: 0.4579230\tbest: 0.4579230 (11)\ttotal: 3.8s\tremaining: 12s\n",
      "12:\tlearn: 0.4048691\ttest: 0.4579143\tbest: 0.4579143 (12)\ttotal: 4.07s\tremaining: 11.6s\n",
      "13:\tlearn: 0.4046621\ttest: 0.4579078\tbest: 0.4579078 (13)\ttotal: 4.33s\tremaining: 11.1s\n",
      "14:\tlearn: 0.4044634\ttest: 0.4578603\tbest: 0.4578603 (14)\ttotal: 4.6s\tremaining: 10.7s\n",
      "15:\tlearn: 0.4042756\ttest: 0.4578028\tbest: 0.4578028 (15)\ttotal: 4.92s\tremaining: 10.4s\n",
      "16:\tlearn: 0.4040855\ttest: 0.4577604\tbest: 0.4577604 (16)\ttotal: 5.18s\tremaining: 10.1s\n",
      "17:\tlearn: 0.4039099\ttest: 0.4577321\tbest: 0.4577321 (17)\ttotal: 5.47s\tremaining: 9.73s\n",
      "18:\tlearn: 0.4037482\ttest: 0.4576666\tbest: 0.4576666 (18)\ttotal: 5.81s\tremaining: 9.48s\n",
      "19:\tlearn: 0.4035922\ttest: 0.4576138\tbest: 0.4576138 (19)\ttotal: 6.14s\tremaining: 9.21s\n",
      "20:\tlearn: 0.4034256\ttest: 0.4575870\tbest: 0.4575870 (20)\ttotal: 6.46s\tremaining: 8.92s\n",
      "21:\tlearn: 0.4032790\ttest: 0.4575571\tbest: 0.4575571 (21)\ttotal: 6.79s\tremaining: 8.64s\n",
      "22:\tlearn: 0.4031317\ttest: 0.4575309\tbest: 0.4575309 (22)\ttotal: 7.08s\tremaining: 8.31s\n",
      "23:\tlearn: 0.4029725\ttest: 0.4574953\tbest: 0.4574953 (23)\ttotal: 7.38s\tremaining: 7.99s\n",
      "24:\tlearn: 0.4027715\ttest: 0.4574910\tbest: 0.4574910 (24)\ttotal: 7.68s\tremaining: 7.68s\n",
      "25:\tlearn: 0.4025736\ttest: 0.4574885\tbest: 0.4574885 (25)\ttotal: 7.95s\tremaining: 7.34s\n",
      "26:\tlearn: 0.4024124\ttest: 0.4575152\tbest: 0.4574885 (25)\ttotal: 8.22s\tremaining: 7s\n",
      "27:\tlearn: 0.4022385\ttest: 0.4575150\tbest: 0.4574885 (25)\ttotal: 8.55s\tremaining: 6.72s\n",
      "28:\tlearn: 0.4020727\ttest: 0.4575135\tbest: 0.4574885 (25)\ttotal: 8.82s\tremaining: 6.39s\n",
      "29:\tlearn: 0.4019232\ttest: 0.4575247\tbest: 0.4574885 (25)\ttotal: 9.13s\tremaining: 6.09s\n",
      "30:\tlearn: 0.4017583\ttest: 0.4575208\tbest: 0.4574885 (25)\ttotal: 9.4s\tremaining: 5.76s\n",
      "31:\tlearn: 0.4016163\ttest: 0.4575260\tbest: 0.4574885 (25)\ttotal: 9.69s\tremaining: 5.45s\n",
      "32:\tlearn: 0.4014671\ttest: 0.4575142\tbest: 0.4574885 (25)\ttotal: 9.97s\tremaining: 5.13s\n",
      "33:\tlearn: 0.4013394\ttest: 0.4575502\tbest: 0.4574885 (25)\ttotal: 10.4s\tremaining: 4.87s\n",
      "34:\tlearn: 0.4011978\ttest: 0.4575531\tbest: 0.4574885 (25)\ttotal: 10.7s\tremaining: 4.57s\n",
      "35:\tlearn: 0.4010682\ttest: 0.4575511\tbest: 0.4574885 (25)\ttotal: 10.9s\tremaining: 4.25s\n",
      "36:\tlearn: 0.4009363\ttest: 0.4575539\tbest: 0.4574885 (25)\ttotal: 11.2s\tremaining: 3.93s\n",
      "37:\tlearn: 0.4008038\ttest: 0.4575409\tbest: 0.4574885 (25)\ttotal: 11.5s\tremaining: 3.62s\n",
      "38:\tlearn: 0.4006881\ttest: 0.4575836\tbest: 0.4574885 (25)\ttotal: 11.7s\tremaining: 3.31s\n",
      "39:\tlearn: 0.4005762\ttest: 0.4576257\tbest: 0.4574885 (25)\ttotal: 12s\tremaining: 3.01s\n",
      "40:\tlearn: 0.4004481\ttest: 0.4576201\tbest: 0.4574885 (25)\ttotal: 12.3s\tremaining: 2.71s\n",
      "41:\tlearn: 0.4003362\ttest: 0.4576235\tbest: 0.4574885 (25)\ttotal: 12.6s\tremaining: 2.4s\n",
      "42:\tlearn: 0.4002370\ttest: 0.4576151\tbest: 0.4574885 (25)\ttotal: 13s\tremaining: 2.11s\n",
      "43:\tlearn: 0.4001228\ttest: 0.4576131\tbest: 0.4574885 (25)\ttotal: 13.3s\tremaining: 1.81s\n",
      "44:\tlearn: 0.4000153\ttest: 0.4576145\tbest: 0.4574885 (25)\ttotal: 13.6s\tremaining: 1.5s\n",
      "45:\tlearn: 0.3999029\ttest: 0.4576362\tbest: 0.4574885 (25)\ttotal: 13.8s\tremaining: 1.2s\n",
      "46:\tlearn: 0.3997859\ttest: 0.4576420\tbest: 0.4574885 (25)\ttotal: 14.1s\tremaining: 902ms\n",
      "47:\tlearn: 0.3996723\ttest: 0.4576499\tbest: 0.4574885 (25)\ttotal: 14.4s\tremaining: 600ms\n",
      "48:\tlearn: 0.3995677\ttest: 0.4576562\tbest: 0.4574885 (25)\ttotal: 14.7s\tremaining: 300ms\n",
      "49:\tlearn: 0.3994573\ttest: 0.4576486\tbest: 0.4574885 (25)\ttotal: 15s\tremaining: 0us\n",
      "\n",
      "bestTest = 0.4574884758\n",
      "bestIteration = 25\n",
      "\n",
      "Shrink model to first 26 iterations.\n"
     ]
    },
    {
     "data": {
      "text/plain": "<catboost.core.CatBoostRegressor at 0x7fa2fe39ec70>"
     },
     "execution_count": 9,
     "metadata": {},
     "output_type": "execute_result"
    }
   ],
   "source": [
    "model = cb.CatBoostRegressor(loss_function='MAE',\n",
    "                             iterations=50)\n",
    "model.fit(train_dataset, eval_set=test_dataset)"
   ],
   "metadata": {
    "collapsed": false,
    "pycharm": {
     "name": "#%%\n"
    }
   }
  },
  {
   "cell_type": "code",
   "execution_count": 10,
   "outputs": [
    {
     "name": "stdout",
     "output_type": "stream",
     "text": [
      "Train score.\n",
      "                rmse    p_pred     ndcgs\n",
      "Date_round                              \n",
      "2007-04-01  0.925122  0.513156  0.934248\n",
      "2007-07-01  0.814860  0.709057  0.934274\n",
      "2007-10-01  0.502136  0.865419  0.934594\n",
      "2008-01-01  0.576517  0.958933  0.935313\n",
      "2008-04-01  0.521787  0.953235  0.936133\n",
      "2008-07-01  0.422038  0.826384  0.934577\n",
      "2008-10-01  0.552081  0.546620  0.935012\n",
      "2009-01-01  1.775513  0.320278  0.938417\n",
      "2009-04-01  2.146119  0.298197  0.937092\n",
      "2009-07-01  1.020311  0.377527  0.939087\n",
      "2009-10-01  0.735508  0.377184  0.936781\n",
      "2010-01-01  0.727487  0.375656  0.936977\n",
      "2010-04-01  0.898758  0.431725  0.939115\n",
      "2010-07-01  0.837442  0.390180  0.939993\n",
      "2010-10-01  0.726528  0.631245  0.939765\n",
      "2011-01-01  0.725647  0.753931  0.938668\n",
      "2011-04-01  0.710004  0.681386  0.937900\n",
      "2011-07-01  0.640239  0.758001  0.939654\n",
      "2011-10-01  0.608789  0.531591  0.938388\n",
      "2012-01-01  0.613464  0.431077  0.937319\n",
      "2012-04-01  0.699184  0.554148  0.940525\n",
      "2012-07-01  0.911416  0.454266  0.939875\n",
      "2012-10-01  0.860773  0.477053  0.939442\n",
      "2013-01-01  0.842863  0.445667  0.939376\n",
      "2013-04-01  0.895643  0.432763  0.938708\n",
      "2013-07-01  0.776058  0.332546  0.936831\n",
      "2013-10-01  0.935605  0.381890  0.939130\n",
      "2014-01-01  0.793532  0.500317  0.937758\n",
      "2014-04-01  0.884308  0.514377  0.937882\n",
      "2014-07-01  1.263733  0.535242  0.939085\n",
      "2014-10-01  0.822940  0.645264  0.940055\n",
      "2015-01-01  1.035144  0.558094  0.938871\n",
      "2015-04-01  0.626528  0.631458  0.938777\n",
      "2015-07-01  0.697280  0.658564  0.941709\n",
      "2015-10-01  0.974149  0.434679  0.938423\n",
      "2016-01-01  0.950259  0.509364  0.940496\n",
      "2016-04-01  1.487145  0.386621  0.939500\n",
      "2016-07-01  0.775682  0.397495  0.940852\n",
      "2016-10-01  0.764653  0.423179  0.941385\n",
      "2017-01-01  0.874161  0.389185  0.940136\n",
      "2017-04-01  0.770001  0.447318  0.940357\n",
      "2017-07-01  0.817082  0.537360  0.940463\n",
      "2017-10-01  0.637857  0.637329  0.940543\n",
      "2018-01-01  0.535459  0.775401  0.941566\n",
      "2018-04-01  0.396973  0.725411  0.937387\n",
      "2018-07-01  1.338810  0.699156  0.938346\n",
      "\n",
      "RMSE: 0.845\n",
      "p_pred: 0.548\n",
      "ndcg: 0.938\n"
     ]
    }
   ],
   "source": [
    "res_df = evaluate(model, X_train, data.reset_index()[['Date_round', 'Perf_1Y']])\n",
    "mean_res = res_df.mean()\n",
    "print(f'Train score.\\n'\n",
    "      f'{res_df}\\n\\n'\n",
    "      f'RMSE: {round(mean_res.rmse, 3)}\\n'\n",
    "      f'p_pred: {round(mean_res.p_pred, 3)}\\n'\n",
    "      f'ndcg: {round(mean_res.ndcgs, 3)}')"
   ],
   "metadata": {
    "collapsed": false,
    "pycharm": {
     "name": "#%%\n"
    }
   }
  },
  {
   "cell_type": "code",
   "execution_count": 11,
   "outputs": [
    {
     "name": "stdout",
     "output_type": "stream",
     "text": [
      "Test score.\n",
      "                rmse    p_pred     ndcgs\n",
      "Date_round                              \n",
      "2018-10-01  0.743908  0.644596  0.938035\n",
      "2019-01-01  1.344492  0.463870  0.938305\n",
      "2019-04-01  1.514314  0.765621  0.937198\n",
      "2019-07-01  0.569010  0.650541  0.937803\n",
      "2019-10-01  0.966861  0.519387  0.936488\n",
      "2020-01-01  0.983865  0.425150  0.937077\n",
      "2020-04-01  1.469186  0.191063  0.937892\n",
      "2020-07-01  1.358490  0.210549  0.939160\n",
      "2020-10-01  1.228839  0.284544  0.938434\n",
      "2021-01-01  2.781817  0.393336  0.936973\n",
      "\n",
      "RMSE: 1.296\n",
      "p_pred: 0.455\n",
      "ndcg: 0.938\n"
     ]
    }
   ],
   "source": [
    "res_df = evaluate(model, X_test, test.reset_index()[['Date_round', 'Perf_1Y']])\n",
    "mean_res = res_df.mean()\n",
    "print(f'Test score.\\n'\n",
    "      f'{res_df}\\n\\n'\n",
    "      f'RMSE: {round(mean_res.rmse, 3)}\\n'\n",
    "      f'p_pred: {round(mean_res.p_pred, 3)}\\n'\n",
    "      f'ndcg: {round(mean_res.ndcgs, 3)}')"
   ],
   "metadata": {
    "collapsed": false,
    "pycharm": {
     "name": "#%%\n"
    }
   }
  },
  {
   "cell_type": "code",
   "execution_count": 12,
   "outputs": [
    {
     "data": {
      "text/plain": "Text(0.5, 0, 'CatBoost Feature Importance')"
     },
     "execution_count": 12,
     "metadata": {},
     "output_type": "execute_result"
    },
    {
     "data": {
      "text/plain": "<Figure size 640x480 with 1 Axes>",
      "image/png": "[encoded data removed]"
     },
     "metadata": {},
     "output_type": "display_data"
    }
   ],
   "source": [
    "sorted_feature_importance = model.feature_importances_.argsort()\n",
    "plt.barh(np.array(X_train.columns)[sorted_feature_importance],\n",
    "        model.feature_importances_[sorted_feature_importance],\n",
    "        color='turquoise')\n",
    "plt.xlabel(\"CatBoost Feature Importance\")"
   ],
   "metadata": {
    "collapsed": false,
    "pycharm": {
     "name": "#%%\n"
    }
   }
  },
  {
   "cell_type": "code",
   "execution_count": 12,
   "outputs": [],
   "source": [],
   "metadata": {
    "collapsed": false,
    "pycharm": {
     "name": "#%%\n"
    }
   }
  },
  {
   "cell_type": "code",
   "execution_count": 13,
   "outputs": [
    {
     "name": "stderr",
     "output_type": "stream",
     "text": [
      "/var/folders/6j/p61nyxsx25xd2l5m0h0g5bm80000gn/T/ipykernel_10241/804355520.py:10: SettingWithCopyWarning: \n",
      "A value is trying to be set on a copy of a slice from a DataFrame.\n",
      "Try using .loc[row_indexer,col_indexer] = value instead\n",
      "\n",
      "See the caveats in the documentation: https://pandas.pydata.org/pandas-docs/stable/user_guide/indexing.html#returning-a-view-versus-a-copy\n",
      "  X_train.loc[:, important_reg_columns] = scaler.fit_transform(X_train.loc[:, important_reg_columns].to_numpy())\n",
      "/var/folders/6j/p61nyxsx25xd2l5m0h0g5bm80000gn/T/ipykernel_10241/804355520.py:11: SettingWithCopyWarning: \n",
      "A value is trying to be set on a copy of a slice from a DataFrame.\n",
      "Try using .loc[row_indexer,col_indexer] = value instead\n",
      "\n",
      "See the caveats in the documentation: https://pandas.pydata.org/pandas-docs/stable/user_guide/indexing.html#returning-a-view-versus-a-copy\n",
      "  X_test.loc[:, important_reg_columns] = scaler.transform(X_test.loc[:, important_reg_columns].to_numpy())\n"
     ]
    }
   ],
   "source": [
    "important_features = set(np.array(X_train.columns)[model.feature_importances_>0])\n",
    "important_reg_columns = [el for el in reg_columns if el in important_features]\n",
    "important_cat_columns = [el for el in cat_columns if el in important_features]\n",
    "\n",
    "scaler = StandardScaler()\n",
    "\n",
    "X_train, y_train = data[[el for el in cat_columns + reg_columns if el in important_features]], data.Perf_1Y\n",
    "X_test, y_test = test[[el for el in cat_columns + reg_columns if el in important_features]], test.Perf_1Y\n",
    "\n",
    "X_train.loc[:, important_reg_columns] = scaler.fit_transform(X_train.loc[:, important_reg_columns].to_numpy())\n",
    "X_test.loc[:, important_reg_columns] = scaler.transform(X_test.loc[:, important_reg_columns].to_numpy())\n",
    "\n",
    "train_dataset = cb.Pool(X_train, y_train, cat_features=important_cat_columns)\n",
    "test_dataset = cb.Pool(X_test, y_test, cat_features=important_cat_columns)"
   ],
   "metadata": {
    "collapsed": false,
    "pycharm": {
     "name": "#%%\n"
    }
   }
  },
  {
   "cell_type": "code",
   "execution_count": 14,
   "outputs": [
    {
     "name": "stdout",
     "output_type": "stream",
     "text": [
      "0:\tlearn: 0.4080736\ttest: 0.4584887\tbest: 0.4584887 (0)\ttotal: 282ms\tremaining: 13.8s\n",
      "1:\tlearn: 0.4077177\ttest: 0.4583946\tbest: 0.4583946 (1)\ttotal: 529ms\tremaining: 12.7s\n",
      "2:\tlearn: 0.4073794\ttest: 0.4583069\tbest: 0.4583069 (2)\ttotal: 766ms\tremaining: 12s\n",
      "3:\tlearn: 0.4070678\ttest: 0.4582712\tbest: 0.4582712 (3)\ttotal: 969ms\tremaining: 11.1s\n",
      "4:\tlearn: 0.4067727\ttest: 0.4582404\tbest: 0.4582404 (4)\ttotal: 1.17s\tremaining: 10.5s\n",
      "5:\tlearn: 0.4064788\ttest: 0.4581905\tbest: 0.4581905 (5)\ttotal: 1.37s\tremaining: 10s\n",
      "6:\tlearn: 0.4062046\ttest: 0.4581111\tbest: 0.4581111 (6)\ttotal: 1.58s\tremaining: 9.69s\n",
      "7:\tlearn: 0.4059563\ttest: 0.4580402\tbest: 0.4580402 (7)\ttotal: 1.77s\tremaining: 9.32s\n",
      "8:\tlearn: 0.4057126\ttest: 0.4580249\tbest: 0.4580249 (8)\ttotal: 1.98s\tremaining: 9.01s\n",
      "9:\tlearn: 0.4054856\ttest: 0.4580007\tbest: 0.4580007 (9)\ttotal: 2.17s\tremaining: 8.69s\n",
      "10:\tlearn: 0.4052661\ttest: 0.4579804\tbest: 0.4579804 (10)\ttotal: 2.37s\tremaining: 8.41s\n",
      "11:\tlearn: 0.4050550\ttest: 0.4579090\tbest: 0.4579090 (11)\ttotal: 2.59s\tremaining: 8.21s\n",
      "12:\tlearn: 0.4048676\ttest: 0.4579013\tbest: 0.4579013 (12)\ttotal: 2.78s\tremaining: 7.92s\n",
      "13:\tlearn: 0.4046587\ttest: 0.4578554\tbest: 0.4578554 (13)\ttotal: 2.98s\tremaining: 7.67s\n",
      "14:\tlearn: 0.4044634\ttest: 0.4577792\tbest: 0.4577792 (14)\ttotal: 3.18s\tremaining: 7.42s\n",
      "15:\tlearn: 0.4042828\ttest: 0.4577747\tbest: 0.4577747 (15)\ttotal: 3.41s\tremaining: 7.25s\n",
      "16:\tlearn: 0.4041173\ttest: 0.4577123\tbest: 0.4577123 (16)\ttotal: 3.61s\tremaining: 7s\n",
      "17:\tlearn: 0.4039395\ttest: 0.4576776\tbest: 0.4576776 (17)\ttotal: 3.84s\tremaining: 6.83s\n",
      "18:\tlearn: 0.4037747\ttest: 0.4576712\tbest: 0.4576712 (18)\ttotal: 4.04s\tremaining: 6.59s\n",
      "19:\tlearn: 0.4036167\ttest: 0.4576276\tbest: 0.4576276 (19)\ttotal: 4.23s\tremaining: 6.34s\n",
      "20:\tlearn: 0.4034502\ttest: 0.4575623\tbest: 0.4575623 (20)\ttotal: 4.43s\tremaining: 6.13s\n",
      "21:\tlearn: 0.4032728\ttest: 0.4575135\tbest: 0.4575135 (21)\ttotal: 4.64s\tremaining: 5.9s\n",
      "22:\tlearn: 0.4031238\ttest: 0.4575297\tbest: 0.4575135 (21)\ttotal: 4.83s\tremaining: 5.67s\n",
      "23:\tlearn: 0.4029603\ttest: 0.4574709\tbest: 0.4574709 (23)\ttotal: 5.06s\tremaining: 5.48s\n",
      "24:\tlearn: 0.4028278\ttest: 0.4574199\tbest: 0.4574199 (24)\ttotal: 5.25s\tremaining: 5.25s\n",
      "25:\tlearn: 0.4026529\ttest: 0.4574257\tbest: 0.4574199 (24)\ttotal: 5.46s\tremaining: 5.04s\n",
      "26:\tlearn: 0.4024663\ttest: 0.4574069\tbest: 0.4574069 (26)\ttotal: 5.66s\tremaining: 4.82s\n",
      "27:\tlearn: 0.4022777\ttest: 0.4574044\tbest: 0.4574044 (27)\ttotal: 5.86s\tremaining: 4.6s\n",
      "28:\tlearn: 0.4021212\ttest: 0.4574419\tbest: 0.4574044 (27)\ttotal: 6.05s\tremaining: 4.38s\n",
      "29:\tlearn: 0.4019630\ttest: 0.4574247\tbest: 0.4574044 (27)\ttotal: 6.25s\tremaining: 4.16s\n",
      "30:\tlearn: 0.4017958\ttest: 0.4574220\tbest: 0.4574044 (27)\ttotal: 6.45s\tremaining: 3.95s\n",
      "31:\tlearn: 0.4016514\ttest: 0.4574171\tbest: 0.4574044 (27)\ttotal: 6.65s\tremaining: 3.74s\n",
      "32:\tlearn: 0.4015167\ttest: 0.4574129\tbest: 0.4574044 (27)\ttotal: 6.84s\tremaining: 3.52s\n",
      "33:\tlearn: 0.4013656\ttest: 0.4574151\tbest: 0.4574044 (27)\ttotal: 7.04s\tremaining: 3.31s\n",
      "34:\tlearn: 0.4012284\ttest: 0.4574516\tbest: 0.4574044 (27)\ttotal: 7.24s\tremaining: 3.1s\n",
      "35:\tlearn: 0.4011039\ttest: 0.4574841\tbest: 0.4574044 (27)\ttotal: 7.43s\tremaining: 2.89s\n",
      "36:\tlearn: 0.4009767\ttest: 0.4575077\tbest: 0.4574044 (27)\ttotal: 7.62s\tremaining: 2.68s\n",
      "37:\tlearn: 0.4008449\ttest: 0.4575123\tbest: 0.4574044 (27)\ttotal: 7.86s\tremaining: 2.48s\n",
      "38:\tlearn: 0.4007131\ttest: 0.4575307\tbest: 0.4574044 (27)\ttotal: 8.05s\tremaining: 2.27s\n",
      "39:\tlearn: 0.4005817\ttest: 0.4575449\tbest: 0.4574044 (27)\ttotal: 8.25s\tremaining: 2.06s\n",
      "40:\tlearn: 0.4004495\ttest: 0.4575386\tbest: 0.4574044 (27)\ttotal: 8.45s\tremaining: 1.85s\n",
      "41:\tlearn: 0.4003377\ttest: 0.4575806\tbest: 0.4574044 (27)\ttotal: 8.64s\tremaining: 1.65s\n",
      "42:\tlearn: 0.4002199\ttest: 0.4575714\tbest: 0.4574044 (27)\ttotal: 8.84s\tremaining: 1.44s\n",
      "43:\tlearn: 0.4001342\ttest: 0.4575892\tbest: 0.4574044 (27)\ttotal: 9.05s\tremaining: 1.23s\n",
      "44:\tlearn: 0.4000199\ttest: 0.4576015\tbest: 0.4574044 (27)\ttotal: 9.24s\tremaining: 1.03s\n",
      "45:\tlearn: 0.3999043\ttest: 0.4576106\tbest: 0.4574044 (27)\ttotal: 9.44s\tremaining: 821ms\n",
      "46:\tlearn: 0.3998020\ttest: 0.4576176\tbest: 0.4574044 (27)\ttotal: 9.64s\tremaining: 615ms\n",
      "47:\tlearn: 0.3997029\ttest: 0.4576237\tbest: 0.4574044 (27)\ttotal: 9.83s\tremaining: 410ms\n",
      "48:\tlearn: 0.3996172\ttest: 0.4576354\tbest: 0.4574044 (27)\ttotal: 10s\tremaining: 205ms\n",
      "49:\tlearn: 0.3995426\ttest: 0.4576418\tbest: 0.4574044 (27)\ttotal: 10.2s\tremaining: 0us\n",
      "\n",
      "bestTest = 0.4574043916\n",
      "bestIteration = 27\n",
      "\n",
      "Shrink model to first 28 iterations.\n"
     ]
    },
    {
     "data": {
      "text/plain": "<catboost.core.CatBoostRegressor at 0x7fa2e4622940>"
     },
     "execution_count": 14,
     "metadata": {},
     "output_type": "execute_result"
    }
   ],
   "source": [
    "model = cb.CatBoostRegressor(loss_function='MAE',\n",
    "                             iterations=50)\n",
    "model.fit(train_dataset, eval_set=test_dataset)"
   ],
   "metadata": {
    "collapsed": false,
    "pycharm": {
     "name": "#%%\n"
    }
   }
  },
  {
   "cell_type": "code",
   "execution_count": 15,
   "outputs": [
    {
     "name": "stdout",
     "output_type": "stream",
     "text": [
      "Train score.\n",
      "                rmse    p_pred     ndcgs\n",
      "Date_round                              \n",
      "2007-04-01  0.925120  0.511881  0.933829\n",
      "2007-07-01  0.814771  0.702140  0.934365\n",
      "2007-10-01  0.501990  0.855455  0.934622\n",
      "2008-01-01  0.577716  0.941580  0.934388\n",
      "2008-04-01  0.520822  0.935480  0.936237\n",
      "2008-07-01  0.420215  0.808637  0.934336\n",
      "2008-10-01  0.552062  0.540891  0.934750\n",
      "2009-01-01  1.775434  0.331429  0.938497\n",
      "2009-04-01  2.145690  0.314883  0.937540\n",
      "2009-07-01  1.020623  0.396351  0.938748\n",
      "2009-10-01  0.735200  0.391037  0.936515\n",
      "2010-01-01  0.727199  0.393163  0.937314\n",
      "2010-04-01  0.899193  0.440823  0.939185\n",
      "2010-07-01  0.837869  0.401010  0.939606\n",
      "2010-10-01  0.726753  0.631722  0.939560\n",
      "2011-01-01  0.725806  0.748432  0.938675\n",
      "2011-04-01  0.709939  0.683362  0.937351\n",
      "2011-07-01  0.640280  0.753424  0.939584\n",
      "2011-10-01  0.608625  0.537611  0.938184\n",
      "2012-01-01  0.613381  0.443008  0.937173\n",
      "2012-04-01  0.698756  0.561976  0.940400\n",
      "2012-07-01  0.911129  0.473154  0.940174\n",
      "2012-10-01  0.860568  0.492421  0.939948\n",
      "2013-01-01  0.842636  0.464229  0.939043\n",
      "2013-04-01  0.895444  0.450706  0.938135\n",
      "2013-07-01  0.775849  0.352717  0.936832\n",
      "2013-10-01  0.935442  0.395174  0.938950\n",
      "2014-01-01  0.793385  0.503428  0.937823\n",
      "2014-04-01  0.884166  0.519804  0.938067\n",
      "2014-07-01  1.263585  0.540531  0.939132\n",
      "2014-10-01  0.823004  0.640510  0.939901\n",
      "2015-01-01  1.035086  0.560172  0.938632\n",
      "2015-04-01  0.626470  0.626500  0.938468\n",
      "2015-07-01  0.697138  0.654228  0.941519\n",
      "2015-10-01  0.974310  0.447406  0.938468\n",
      "2016-01-01  0.950428  0.522135  0.940667\n",
      "2016-04-01  1.487212  0.413966  0.939438\n",
      "2016-07-01  0.776058  0.422959  0.940939\n",
      "2016-10-01  0.765000  0.444096  0.941151\n",
      "2017-01-01  0.874695  0.410037  0.939832\n",
      "2017-04-01  0.770026  0.464151  0.940844\n",
      "2017-07-01  0.817182  0.548502  0.940590\n",
      "2017-10-01  0.637792  0.639219  0.940562\n",
      "2018-01-01  0.535111  0.761622  0.941358\n",
      "2018-04-01  0.396971  0.708805  0.937348\n",
      "2018-07-01  1.338869  0.682638  0.938203\n",
      "\n",
      "RMSE: 0.844\n",
      "p_pred: 0.554\n",
      "ndcg: 0.938\n"
     ]
    }
   ],
   "source": [
    "res_df = evaluate(model, X_train, data.reset_index()[['Date_round', 'Perf_1Y']])\n",
    "mean_res = res_df.mean()\n",
    "print(f'Train score.\\n'\n",
    "      f'{res_df}\\n\\n'\n",
    "      f'RMSE: {round(mean_res.rmse, 3)}\\n'\n",
    "      f'p_pred: {round(mean_res.p_pred, 3)}\\n'\n",
    "      f'ndcg: {round(mean_res.ndcgs, 3)}')"
   ],
   "metadata": {
    "collapsed": false,
    "pycharm": {
     "name": "#%%\n"
    }
   }
  },
  {
   "cell_type": "code",
   "execution_count": 16,
   "outputs": [
    {
     "name": "stdout",
     "output_type": "stream",
     "text": [
      "Test score.\n",
      "                rmse    p_pred     ndcgs\n",
      "Date_round                              \n",
      "2018-10-01  0.744010  0.628555  0.937784\n",
      "2019-01-01  1.344534  0.473666  0.938363\n",
      "2019-04-01  1.514447  0.735134  0.937398\n",
      "2019-07-01  0.569084  0.633591  0.937894\n",
      "2019-10-01  0.966841  0.509886  0.936104\n",
      "2020-01-01  0.983855  0.427532  0.936602\n",
      "2020-04-01  1.468920  0.243655  0.937658\n",
      "2020-07-01  1.358398  0.246323  0.939511\n",
      "2020-10-01  1.228743  0.314883  0.938815\n",
      "2021-01-01  2.781798  0.400787  0.937236\n",
      "\n",
      "RMSE: 1.296\n",
      "p_pred: 0.461\n",
      "ndcg: 0.938\n"
     ]
    }
   ],
   "source": [
    "res_df = evaluate(model, X_test, test.reset_index()[['Date_round', 'Perf_1Y']])\n",
    "mean_res = res_df.mean()\n",
    "print(f'Test score.\\n'\n",
    "      f'{res_df}\\n\\n'\n",
    "      f'RMSE: {round(mean_res.rmse, 3)}\\n'\n",
    "      f'p_pred: {round(mean_res.p_pred, 3)}\\n'\n",
    "      f'ndcg: {round(mean_res.ndcgs, 3)}')"
   ],
   "metadata": {
    "collapsed": false,
    "pycharm": {
     "name": "#%%\n"
    }
   }
  },
  {
   "cell_type": "code",
   "execution_count": 16,
   "outputs": [],
   "source": [],
   "metadata": {
    "collapsed": false,
    "pycharm": {
     "name": "#%%\n"
    }
   }
  }
 ],
 "metadata": {
  "kernelspec": {
   "display_name": "Python 3",
   "language": "python",
   "name": "python3"
  },
  "language_info": {
   "codemirror_mode": {
    "name": "ipython",
    "version": 2
   },
   "file_extension": ".py",
   "mimetype": "text/x-python",
   "name": "python",
   "nbconvert_exporter": "python",
   "pygments_lexer": "ipython2",
   "version": "2.7.6"
  }
 },
 "nbformat": 4,
 "nbformat_minor": 0
}