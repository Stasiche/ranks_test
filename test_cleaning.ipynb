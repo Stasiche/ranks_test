{
 "cells": [
  {
   "cell_type": "code",
   "execution_count": 1,
   "metadata": {
    "collapsed": true,
    "pycharm": {
     "name": "#%%\n"
    }
   },
   "outputs": [],
   "source": [
    "import pandas as pd\n",
    "import numpy as np\n",
    "from os.path import join\n",
    "import matplotlib.pyplot as plt"
   ]
  },
  {
   "cell_type": "code",
   "execution_count": 2,
   "outputs": [],
   "source": [
    "data_path = 'data'"
   ],
   "metadata": {
    "collapsed": false,
    "pycharm": {
     "name": "#%%\n"
    }
   }
  },
  {
   "cell_type": "code",
   "execution_count": 3,
   "outputs": [
    {
     "data": {
      "text/plain": "0.02463867580729714"
     },
     "execution_count": 3,
     "metadata": {},
     "output_type": "execute_result"
    }
   ],
   "source": [
    "data = pd.read_csv(join(data_path, 'test.csv'), parse_dates=['Date_round'])\n",
    "data.isna().sum(axis=0).Perf_1Y/data.shape[0]"
   ],
   "metadata": {
    "collapsed": false,
    "pycharm": {
     "name": "#%%\n"
    }
   }
  },
  {
   "cell_type": "code",
   "execution_count": 4,
   "outputs": [],
   "source": [
    "cnt = data.groupby('RanksID').count()['Date_round']"
   ],
   "metadata": {
    "collapsed": false,
    "pycharm": {
     "name": "#%%\n"
    }
   }
  },
  {
   "cell_type": "code",
   "execution_count": 5,
   "outputs": [
    {
     "data": {
      "text/plain": "<Figure size 640x480 with 1 Axes>",
      "image/png": "[encoded data removed]"
     },
     "metadata": {},
     "output_type": "display_data"
    }
   ],
   "source": [
    "plt.hist(cnt,bins=20);"
   ],
   "metadata": {
    "collapsed": false,
    "pycharm": {
     "name": "#%%\n"
    }
   }
  },
  {
   "cell_type": "code",
   "execution_count": 6,
   "outputs": [
    {
     "name": "stdout",
     "output_type": "stream",
     "text": [
      "th: 0, groups_num: 46616, ratio: 1.0\n",
      "th: 1, groups_num: 44337, ratio: 0.9511\n",
      "th: 2, groups_num: 42594, ratio: 0.9137\n",
      "th: 5, groups_num: 38840, ratio: 0.8332\n",
      "th: 10, groups_num: 0, ratio: 0.0\n",
      "th: 20, groups_num: 0, ratio: 0.0\n",
      "th: 30, groups_num: 0, ratio: 0.0\n",
      "th: 40, groups_num: 0, ratio: 0.0\n",
      "th: 50, groups_num: 0, ratio: 0.0\n"
     ]
    }
   ],
   "source": [
    "for th in [0, 1, 2, 5, 10, 20, 30, 40, 50]:\n",
    "       print(f'th: {th}, '\n",
    "             f'groups_num: {cnt[cnt > th].shape[0]}, '\n",
    "             f'ratio: {round(cnt[cnt > th].shape[0]/cnt.shape[0], 4)}')"
   ],
   "metadata": {
    "collapsed": false,
    "pycharm": {
     "name": "#%%\n"
    }
   }
  },
  {
   "cell_type": "code",
   "execution_count": 8,
   "outputs": [
    {
     "data": {
      "text/plain": "0.0"
     },
     "execution_count": 8,
     "metadata": {},
     "output_type": "execute_result"
    }
   ],
   "source": [
    "data = data[~data.Perf_1Y.isna()]\n",
    "data.isna().sum(axis=0).Perf_1Y/data.shape[0]"
   ],
   "metadata": {
    "collapsed": false,
    "pycharm": {
     "name": "#%%\n"
    }
   }
  },
  {
   "cell_type": "code",
   "execution_count": 11,
   "outputs": [
    {
     "data": {
      "text/plain": "Date_round                                   0.000000\nRanksID                                      0.000000\nPerf_1Y                                      0.000000\nCountry_of_Headquarters                      0.034956\nC_Price_To_Tangible_Book_Value_Per_Share     0.054580\nPrice_To_Tangible_Book_Value_Per_Share       0.054580\nC_Price_To_Book_Value_Per_Share              0.054804\nPrice_To_Book_Value_Per_Share                0.054804\ngicsSectorName                               0.088644\ngicsIndustryGroupName                        0.088644\ngicsIndustryName                             0.088644\ngicsSubIndustryName                          0.088644\nFree_Cash_Flow_net_of_Dividends_per_Share    0.103854\nC_Price_to_FCF_net_of_Dividends_per_Share    0.104157\nEnterprise_Value_to_Sales                    0.108169\nPrice_To_Sales_Per_Share                     0.108208\nCompany_Shares                               0.119814\nMCap_group                                   0.119941\nEnterprise_Value                             0.135995\nEnterprise_Value_to_EBITDA                   0.280538\nEnterprise_Value_to_Operating_Cash_Flow      0.347008\nPrice_to_Cash_Flow_per_Share                 0.347042\nP_to_E                                       0.370888\nEBITDA_Q                                     0.758123\nCommon_Stock_Buyback_Net                     0.775813\nC_Common_Stock_Buyback_Net                   0.791937\nC_P_del_E_Q                                  0.857654\nC_P_del_BV_Q                                 0.858246\nC_EV_del_EBITDA_Q                            0.858396\nC_P_del_FCF_Q                                0.861592\nC_P_del_S_Q                                  0.865731\nC_EV_del_Sales_Q                             0.865960\nCommon_Stock_Buyback_Net_Q                   0.883263\nC_Buyback_Q                                  0.928060\ndtype: float64"
     },
     "execution_count": 11,
     "metadata": {},
     "output_type": "execute_result"
    }
   ],
   "source": [
    "missing_values = data.isna().sum(axis=0)/data.shape[0]\n",
    "missing_values.sort_values()"
   ],
   "metadata": {
    "collapsed": false,
    "pycharm": {
     "name": "#%%\n"
    }
   }
  },
  {
   "cell_type": "code",
   "execution_count": 12,
   "outputs": [
    {
     "data": {
      "text/plain": "['Date_round',\n 'RanksID',\n 'Perf_1Y',\n 'Country_of_Headquarters',\n 'C_Price_To_Tangible_Book_Value_Per_Share',\n 'Price_To_Tangible_Book_Value_Per_Share',\n 'C_Price_To_Book_Value_Per_Share',\n 'Price_To_Book_Value_Per_Share',\n 'gicsSectorName',\n 'gicsIndustryGroupName',\n 'gicsIndustryName',\n 'gicsSubIndustryName',\n 'Free_Cash_Flow_net_of_Dividends_per_Share',\n 'C_Price_to_FCF_net_of_Dividends_per_Share',\n 'Enterprise_Value_to_Sales',\n 'Price_To_Sales_Per_Share',\n 'Company_Shares',\n 'MCap_group',\n 'Enterprise_Value',\n 'Enterprise_Value_to_EBITDA',\n 'Enterprise_Value_to_Operating_Cash_Flow',\n 'Price_to_Cash_Flow_per_Share',\n 'P_to_E']"
     },
     "execution_count": 12,
     "metadata": {},
     "output_type": "execute_result"
    }
   ],
   "source": [
    "tmp = missing_values.sort_values()\n",
    "tmp[tmp<0.4].index.to_list()"
   ],
   "metadata": {
    "collapsed": false,
    "pycharm": {
     "name": "#%%\n"
    }
   }
  },
  {
   "cell_type": "code",
   "execution_count": 13,
   "outputs": [],
   "source": [
    "valid_columns = ['Date_round', 'RanksID', 'Perf_1Y', 'Country_of_Headquarters',\n",
    "       'Price_To_Tangible_Book_Value_Per_Share',\n",
    "       'C_Price_To_Tangible_Book_Value_Per_Share',\n",
    "       'Price_To_Book_Value_Per_Share', 'C_Price_To_Book_Value_Per_Share',\n",
    "       'Enterprise_Value_to_Sales', 'Price_To_Sales_Per_Share',\n",
    "       'Company_Shares', 'MCap_group', 'Enterprise_Value', 'gicsSectorName',\n",
    "       'gicsIndustryGroupName', 'gicsIndustryName', 'gicsSubIndustryName',\n",
    "       'Free_Cash_Flow_net_of_Dividends_per_Share',\n",
    "       'C_Price_to_FCF_net_of_Dividends_per_Share',\n",
    "       'Enterprise_Value_to_EBITDA', 'Enterprise_Value_to_Operating_Cash_Flow',\n",
    "       'Price_to_Cash_Flow_per_Share', 'P_to_E']\n",
    "\n",
    "gics_names = ['gicsSectorName', 'gicsIndustryGroupName','gicsIndustryName','gicsSubIndustryName']\n",
    "\n",
    "useless_columns = ['MCap_group']\n",
    "\n",
    "util_columns = ['Date_round', 'RanksID', 'Perf_1Y']\n",
    "cat_columns = gics_names + ['Country_of_Headquarters']\n",
    "reg_columns = [el for el in valid_columns if el not in useless_columns + cat_columns + util_columns]"
   ],
   "metadata": {
    "collapsed": false,
    "pycharm": {
     "name": "#%%\n"
    }
   }
  },
  {
   "cell_type": "code",
   "execution_count": 14,
   "outputs": [],
   "source": [
    "data = data[util_columns + cat_columns + reg_columns]"
   ],
   "metadata": {
    "collapsed": false,
    "pycharm": {
     "name": "#%%\n"
    }
   }
  },
  {
   "cell_type": "code",
   "execution_count": 15,
   "outputs": [
    {
     "name": "stdout",
     "output_type": "stream",
     "text": [
      "CPU times: user 2min 10s, sys: 1.2 s, total: 2min 11s\n",
      "Wall time: 2min 26s\n"
     ]
    },
    {
     "data": {
      "text/plain": "           Date_round  Perf_1Y  gicsSectorName  gicsIndustryGroupName  \\\nRanksID                                                                 \n000001.SZ         0.0      0.0             0.0                    0.0   \n000002.SZ         0.0      0.0             0.0                    0.0   \n000004.SZ         0.0      0.0             0.0                    0.0   \n000005.SZ         0.0      0.0             0.0                    0.0   \n000006.SZ         0.0      0.0             0.0                    0.0   \n...               ...      ...             ...                    ...   \nZYT.L             0.0      0.0             0.0                    0.0   \nZYXI.O            0.0      0.0             0.0                    0.0   \nZZZ.TO            0.0      0.0             0.0                    0.0   \nZZb.ST            0.0      0.0             0.0                    0.0   \nZh.V              0.0      0.0             1.0                    1.0   \n\n           gicsIndustryName  gicsSubIndustryName  Country_of_Headquarters  \\\nRanksID                                                                     \n000001.SZ               0.0                  0.0                      0.0   \n000002.SZ               0.0                  0.0                      0.0   \n000004.SZ               0.0                  0.0                      0.0   \n000005.SZ               0.0                  0.0                      0.0   \n000006.SZ               0.0                  0.0                      0.0   \n...                     ...                  ...                      ...   \nZYT.L                   0.0                  0.0                      0.0   \nZYXI.O                  0.0                  0.0                      0.0   \nZZZ.TO                  0.0                  0.0                      0.0   \nZZb.ST                  0.0                  0.0                      0.0   \nZh.V                    1.0                  1.0                      1.0   \n\n           Price_To_Tangible_Book_Value_Per_Share  \\\nRanksID                                             \n000001.SZ                                     0.0   \n000002.SZ                                     0.0   \n000004.SZ                                     0.0   \n000005.SZ                                     0.0   \n000006.SZ                                     0.0   \n...                                           ...   \nZYT.L                                         0.0   \nZYXI.O                                        0.0   \nZZZ.TO                                        0.0   \nZZb.ST                                        0.0   \nZh.V                                          1.0   \n\n           C_Price_To_Tangible_Book_Value_Per_Share  \\\nRanksID                                               \n000001.SZ                                       0.0   \n000002.SZ                                       0.0   \n000004.SZ                                       0.0   \n000005.SZ                                       0.0   \n000006.SZ                                       0.0   \n...                                             ...   \nZYT.L                                           0.0   \nZYXI.O                                          0.0   \nZZZ.TO                                          0.0   \nZZb.ST                                          0.0   \nZh.V                                            1.0   \n\n           Price_To_Book_Value_Per_Share  ...  Enterprise_Value_to_Sales  \\\nRanksID                                   ...                              \n000001.SZ                            0.0  ...                        0.0   \n000002.SZ                            0.0  ...                        0.0   \n000004.SZ                            0.0  ...                        0.0   \n000005.SZ                            0.0  ...                        0.0   \n000006.SZ                            0.0  ...                        0.0   \n...                                  ...  ...                        ...   \nZYT.L                                0.0  ...                        0.0   \nZYXI.O                               0.0  ...                        0.0   \nZZZ.TO                               0.0  ...                        0.0   \nZZb.ST                               0.0  ...                        0.0   \nZh.V                                 1.0  ...                        1.0   \n\n           Price_To_Sales_Per_Share  Company_Shares  Enterprise_Value  \\\nRanksID                                                                 \n000001.SZ                       0.0             0.1               0.1   \n000002.SZ                       0.0             0.0               0.0   \n000004.SZ                       0.0             0.1               0.1   \n000005.SZ                       0.0             0.1               0.1   \n000006.SZ                       0.0             0.1               0.1   \n...                             ...             ...               ...   \nZYT.L                           0.0             0.1               0.1   \nZYXI.O                          0.0             0.0               0.0   \nZZZ.TO                          0.0             0.0               0.0   \nZZb.ST                          0.0             0.3               0.3   \nZh.V                            1.0             1.0               1.0   \n\n           Free_Cash_Flow_net_of_Dividends_per_Share  \\\nRanksID                                                \n000001.SZ                                        0.0   \n000002.SZ                                        0.0   \n000004.SZ                                        0.0   \n000005.SZ                                        0.0   \n000006.SZ                                        0.0   \n...                                              ...   \nZYT.L                                            0.0   \nZYXI.O                                           0.0   \nZZZ.TO                                           0.0   \nZZb.ST                                           0.0   \nZh.V                                             1.0   \n\n           C_Price_to_FCF_net_of_Dividends_per_Share  \\\nRanksID                                                \n000001.SZ                                        0.0   \n000002.SZ                                        0.0   \n000004.SZ                                        0.0   \n000005.SZ                                        0.0   \n000006.SZ                                        0.0   \n...                                              ...   \nZYT.L                                            0.0   \nZYXI.O                                           0.0   \nZZZ.TO                                           0.0   \nZZb.ST                                           0.0   \nZh.V                                             1.0   \n\n           Enterprise_Value_to_EBITDA  \\\nRanksID                                 \n000001.SZ                         0.0   \n000002.SZ                         0.0   \n000004.SZ                         0.8   \n000005.SZ                         0.4   \n000006.SZ                         0.0   \n...                               ...   \nZYT.L                             0.0   \nZYXI.O                            0.0   \nZZZ.TO                            0.0   \nZZb.ST                            0.0   \nZh.V                              1.0   \n\n           Enterprise_Value_to_Operating_Cash_Flow  \\\nRanksID                                              \n000001.SZ                                      0.7   \n000002.SZ                                      0.0   \n000004.SZ                                      0.7   \n000005.SZ                                      0.4   \n000006.SZ                                      0.4   \n...                                            ...   \nZYT.L                                          0.0   \nZYXI.O                                         0.0   \nZZZ.TO                                         0.0   \nZZb.ST                                         0.0   \nZh.V                                           1.0   \n\n           Price_to_Cash_Flow_per_Share  P_to_E  \nRanksID                                          \n000001.SZ                           0.7     0.0  \n000002.SZ                           0.0     0.0  \n000004.SZ                           0.7     0.5  \n000005.SZ                           0.4     0.0  \n000006.SZ                           0.4     0.0  \n...                                 ...     ...  \nZYT.L                               0.0     0.0  \nZYXI.O                              0.0     0.0  \nZZZ.TO                              0.0     0.0  \nZZb.ST                              0.0     0.0  \nZh.V                                1.0     1.0  \n\n[45403 rows x 21 columns]",
      "text/html": "<div>\n<style scoped>\n    .dataframe tbody tr th:only-of-type {\n        vertical-align: middle;\n    }\n\n    .dataframe tbody tr th {\n        vertical-align: top;\n    }\n\n    .dataframe thead th {\n        text-align: right;\n    }\n</style>\n<table border=\"1\" class=\"dataframe\">\n  <thead>\n    <tr style=\"text-align: right;\">\n      <th></th>\n      <th>Date_round</th>\n      <th>Perf_1Y</th>\n      <th>gicsSectorName</th>\n      <th>gicsIndustryGroupName</th>\n      <th>gicsIndustryName</th>\n      <th>gicsSubIndustryName</th>\n      <th>Country_of_Headquarters</th>\n      <th>Price_To_Tangible_Book_Value_Per_Share</th>\n      <th>C_Price_To_Tangible_Book_Value_Per_Share</th>\n      <th>Price_To_Book_Value_Per_Share</th>\n      <th>...</th>\n      <th>Enterprise_Value_to_Sales</th>\n      <th>Price_To_Sales_Per_Share</th>\n      <th>Company_Shares</th>\n      <th>Enterprise_Value</th>\n      <th>Free_Cash_Flow_net_of_Dividends_per_Share</th>\n      <th>C_Price_to_FCF_net_of_Dividends_per_Share</th>\n      <th>Enterprise_Value_to_EBITDA</th>\n      <th>Enterprise_Value_to_Operating_Cash_Flow</th>\n      <th>Price_to_Cash_Flow_per_Share</th>\n      <th>P_to_E</th>\n    </tr>\n    <tr>\n      <th>RanksID</th>\n      <th></th>\n      <th></th>\n      <th></th>\n      <th></th>\n      <th></th>\n      <th></th>\n      <th></th>\n      <th></th>\n      <th></th>\n      <th></th>\n      <th></th>\n      <th></th>\n      <th></th>\n      <th></th>\n      <th></th>\n      <th></th>\n      <th></th>\n      <th></th>\n      <th></th>\n      <th></th>\n      <th></th>\n    </tr>\n  </thead>\n  <tbody>\n    <tr>\n      <th>000001.SZ</th>\n      <td>0.0</td>\n      <td>0.0</td>\n      <td>0.0</td>\n      <td>0.0</td>\n      <td>0.0</td>\n      <td>0.0</td>\n      <td>0.0</td>\n      <td>0.0</td>\n      <td>0.0</td>\n      <td>0.0</td>\n      <td>...</td>\n      <td>0.0</td>\n      <td>0.0</td>\n      <td>0.1</td>\n      <td>0.1</td>\n      <td>0.0</td>\n      <td>0.0</td>\n      <td>0.0</td>\n      <td>0.7</td>\n      <td>0.7</td>\n      <td>0.0</td>\n    </tr>\n    <tr>\n      <th>000002.SZ</th>\n      <td>0.0</td>\n      <td>0.0</td>\n      <td>0.0</td>\n      <td>0.0</td>\n      <td>0.0</td>\n      <td>0.0</td>\n      <td>0.0</td>\n      <td>0.0</td>\n      <td>0.0</td>\n      <td>0.0</td>\n      <td>...</td>\n      <td>0.0</td>\n      <td>0.0</td>\n      <td>0.0</td>\n      <td>0.0</td>\n      <td>0.0</td>\n      <td>0.0</td>\n      <td>0.0</td>\n      <td>0.0</td>\n      <td>0.0</td>\n      <td>0.0</td>\n    </tr>\n    <tr>\n      <th>000004.SZ</th>\n      <td>0.0</td>\n      <td>0.0</td>\n      <td>0.0</td>\n      <td>0.0</td>\n      <td>0.0</td>\n      <td>0.0</td>\n      <td>0.0</td>\n      <td>0.0</td>\n      <td>0.0</td>\n      <td>0.0</td>\n      <td>...</td>\n      <td>0.0</td>\n      <td>0.0</td>\n      <td>0.1</td>\n      <td>0.1</td>\n      <td>0.0</td>\n      <td>0.0</td>\n      <td>0.8</td>\n      <td>0.7</td>\n      <td>0.7</td>\n      <td>0.5</td>\n    </tr>\n    <tr>\n      <th>000005.SZ</th>\n      <td>0.0</td>\n      <td>0.0</td>\n      <td>0.0</td>\n      <td>0.0</td>\n      <td>0.0</td>\n      <td>0.0</td>\n      <td>0.0</td>\n      <td>0.0</td>\n      <td>0.0</td>\n      <td>0.0</td>\n      <td>...</td>\n      <td>0.0</td>\n      <td>0.0</td>\n      <td>0.1</td>\n      <td>0.1</td>\n      <td>0.0</td>\n      <td>0.0</td>\n      <td>0.4</td>\n      <td>0.4</td>\n      <td>0.4</td>\n      <td>0.0</td>\n    </tr>\n    <tr>\n      <th>000006.SZ</th>\n      <td>0.0</td>\n      <td>0.0</td>\n      <td>0.0</td>\n      <td>0.0</td>\n      <td>0.0</td>\n      <td>0.0</td>\n      <td>0.0</td>\n      <td>0.0</td>\n      <td>0.0</td>\n      <td>0.0</td>\n      <td>...</td>\n      <td>0.0</td>\n      <td>0.0</td>\n      <td>0.1</td>\n      <td>0.1</td>\n      <td>0.0</td>\n      <td>0.0</td>\n      <td>0.0</td>\n      <td>0.4</td>\n      <td>0.4</td>\n      <td>0.0</td>\n    </tr>\n    <tr>\n      <th>...</th>\n      <td>...</td>\n      <td>...</td>\n      <td>...</td>\n      <td>...</td>\n      <td>...</td>\n      <td>...</td>\n      <td>...</td>\n      <td>...</td>\n      <td>...</td>\n      <td>...</td>\n      <td>...</td>\n      <td>...</td>\n      <td>...</td>\n      <td>...</td>\n      <td>...</td>\n      <td>...</td>\n      <td>...</td>\n      <td>...</td>\n      <td>...</td>\n      <td>...</td>\n      <td>...</td>\n    </tr>\n    <tr>\n      <th>ZYT.L</th>\n      <td>0.0</td>\n      <td>0.0</td>\n      <td>0.0</td>\n      <td>0.0</td>\n      <td>0.0</td>\n      <td>0.0</td>\n      <td>0.0</td>\n      <td>0.0</td>\n      <td>0.0</td>\n      <td>0.0</td>\n      <td>...</td>\n      <td>0.0</td>\n      <td>0.0</td>\n      <td>0.1</td>\n      <td>0.1</td>\n      <td>0.0</td>\n      <td>0.0</td>\n      <td>0.0</td>\n      <td>0.0</td>\n      <td>0.0</td>\n      <td>0.0</td>\n    </tr>\n    <tr>\n      <th>ZYXI.O</th>\n      <td>0.0</td>\n      <td>0.0</td>\n      <td>0.0</td>\n      <td>0.0</td>\n      <td>0.0</td>\n      <td>0.0</td>\n      <td>0.0</td>\n      <td>0.0</td>\n      <td>0.0</td>\n      <td>0.0</td>\n      <td>...</td>\n      <td>0.0</td>\n      <td>0.0</td>\n      <td>0.0</td>\n      <td>0.0</td>\n      <td>0.0</td>\n      <td>0.0</td>\n      <td>0.0</td>\n      <td>0.0</td>\n      <td>0.0</td>\n      <td>0.0</td>\n    </tr>\n    <tr>\n      <th>ZZZ.TO</th>\n      <td>0.0</td>\n      <td>0.0</td>\n      <td>0.0</td>\n      <td>0.0</td>\n      <td>0.0</td>\n      <td>0.0</td>\n      <td>0.0</td>\n      <td>0.0</td>\n      <td>0.0</td>\n      <td>0.0</td>\n      <td>...</td>\n      <td>0.0</td>\n      <td>0.0</td>\n      <td>0.0</td>\n      <td>0.0</td>\n      <td>0.0</td>\n      <td>0.0</td>\n      <td>0.0</td>\n      <td>0.0</td>\n      <td>0.0</td>\n      <td>0.0</td>\n    </tr>\n    <tr>\n      <th>ZZb.ST</th>\n      <td>0.0</td>\n      <td>0.0</td>\n      <td>0.0</td>\n      <td>0.0</td>\n      <td>0.0</td>\n      <td>0.0</td>\n      <td>0.0</td>\n      <td>0.0</td>\n      <td>0.0</td>\n      <td>0.0</td>\n      <td>...</td>\n      <td>0.0</td>\n      <td>0.0</td>\n      <td>0.3</td>\n      <td>0.3</td>\n      <td>0.0</td>\n      <td>0.0</td>\n      <td>0.0</td>\n      <td>0.0</td>\n      <td>0.0</td>\n      <td>0.0</td>\n    </tr>\n    <tr>\n      <th>Zh.V</th>\n      <td>0.0</td>\n      <td>0.0</td>\n      <td>1.0</td>\n      <td>1.0</td>\n      <td>1.0</td>\n      <td>1.0</td>\n      <td>1.0</td>\n      <td>1.0</td>\n      <td>1.0</td>\n      <td>1.0</td>\n      <td>...</td>\n      <td>1.0</td>\n      <td>1.0</td>\n      <td>1.0</td>\n      <td>1.0</td>\n      <td>1.0</td>\n      <td>1.0</td>\n      <td>1.0</td>\n      <td>1.0</td>\n      <td>1.0</td>\n      <td>1.0</td>\n    </tr>\n  </tbody>\n</table>\n<p>45403 rows × 21 columns</p>\n</div>"
     },
     "execution_count": 15,
     "metadata": {},
     "output_type": "execute_result"
    }
   ],
   "source": [
    "%%time\n",
    "missing_ratio = data.groupby('RanksID').agg(lambda x: x.isna().sum(axis=0)/x.shape[0])\n",
    "missing_ratio"
   ],
   "metadata": {
    "collapsed": false,
    "pycharm": {
     "name": "#%%\n"
    }
   }
  },
  {
   "cell_type": "code",
   "execution_count": 16,
   "outputs": [
    {
     "data": {
      "text/plain": "                                                std       fmr\nDate_round                                 0.000000  0.000000\nPerf_1Y                                    0.000000  0.000000\ngicsSectorName                             0.323349  0.118627\ngicsIndustryGroupName                      0.323349  0.118627\ngicsIndustryName                           0.323349  0.118627\ngicsSubIndustryName                        0.323349  0.118627\nCountry_of_Headquarters                    0.186372  0.036033\nPrice_To_Tangible_Book_Value_Per_Share     0.265849  0.074555\nC_Price_To_Tangible_Book_Value_Per_Share   0.265849  0.074555\nPrice_To_Book_Value_Per_Share              0.266147  0.074709\nC_Price_To_Book_Value_Per_Share            0.266147  0.074709\nEnterprise_Value_to_Sales                  0.337963  0.125410\nPrice_To_Sales_Per_Share                   0.337999  0.125410\nCompany_Shares                             0.193085  0.030240\nEnterprise_Value                           0.237612  0.056516\nFree_Cash_Flow_net_of_Dividends_per_Share  0.345866  0.134661\nC_Price_to_FCF_net_of_Dividends_per_Share  0.346238  0.134969\nEnterprise_Value_to_EBITDA                 0.428357  0.241306\nEnterprise_Value_to_Operating_Cash_Flow    0.415214  0.239059\nPrice_to_Cash_Flow_per_Share               0.415269  0.239059\nP_to_E                                     0.428870  0.267868",
      "text/html": "<div>\n<style scoped>\n    .dataframe tbody tr th:only-of-type {\n        vertical-align: middle;\n    }\n\n    .dataframe tbody tr th {\n        vertical-align: top;\n    }\n\n    .dataframe thead th {\n        text-align: right;\n    }\n</style>\n<table border=\"1\" class=\"dataframe\">\n  <thead>\n    <tr style=\"text-align: right;\">\n      <th></th>\n      <th>std</th>\n      <th>fmr</th>\n    </tr>\n  </thead>\n  <tbody>\n    <tr>\n      <th>Date_round</th>\n      <td>0.000000</td>\n      <td>0.000000</td>\n    </tr>\n    <tr>\n      <th>Perf_1Y</th>\n      <td>0.000000</td>\n      <td>0.000000</td>\n    </tr>\n    <tr>\n      <th>gicsSectorName</th>\n      <td>0.323349</td>\n      <td>0.118627</td>\n    </tr>\n    <tr>\n      <th>gicsIndustryGroupName</th>\n      <td>0.323349</td>\n      <td>0.118627</td>\n    </tr>\n    <tr>\n      <th>gicsIndustryName</th>\n      <td>0.323349</td>\n      <td>0.118627</td>\n    </tr>\n    <tr>\n      <th>gicsSubIndustryName</th>\n      <td>0.323349</td>\n      <td>0.118627</td>\n    </tr>\n    <tr>\n      <th>Country_of_Headquarters</th>\n      <td>0.186372</td>\n      <td>0.036033</td>\n    </tr>\n    <tr>\n      <th>Price_To_Tangible_Book_Value_Per_Share</th>\n      <td>0.265849</td>\n      <td>0.074555</td>\n    </tr>\n    <tr>\n      <th>C_Price_To_Tangible_Book_Value_Per_Share</th>\n      <td>0.265849</td>\n      <td>0.074555</td>\n    </tr>\n    <tr>\n      <th>Price_To_Book_Value_Per_Share</th>\n      <td>0.266147</td>\n      <td>0.074709</td>\n    </tr>\n    <tr>\n      <th>C_Price_To_Book_Value_Per_Share</th>\n      <td>0.266147</td>\n      <td>0.074709</td>\n    </tr>\n    <tr>\n      <th>Enterprise_Value_to_Sales</th>\n      <td>0.337963</td>\n      <td>0.125410</td>\n    </tr>\n    <tr>\n      <th>Price_To_Sales_Per_Share</th>\n      <td>0.337999</td>\n      <td>0.125410</td>\n    </tr>\n    <tr>\n      <th>Company_Shares</th>\n      <td>0.193085</td>\n      <td>0.030240</td>\n    </tr>\n    <tr>\n      <th>Enterprise_Value</th>\n      <td>0.237612</td>\n      <td>0.056516</td>\n    </tr>\n    <tr>\n      <th>Free_Cash_Flow_net_of_Dividends_per_Share</th>\n      <td>0.345866</td>\n      <td>0.134661</td>\n    </tr>\n    <tr>\n      <th>C_Price_to_FCF_net_of_Dividends_per_Share</th>\n      <td>0.346238</td>\n      <td>0.134969</td>\n    </tr>\n    <tr>\n      <th>Enterprise_Value_to_EBITDA</th>\n      <td>0.428357</td>\n      <td>0.241306</td>\n    </tr>\n    <tr>\n      <th>Enterprise_Value_to_Operating_Cash_Flow</th>\n      <td>0.415214</td>\n      <td>0.239059</td>\n    </tr>\n    <tr>\n      <th>Price_to_Cash_Flow_per_Share</th>\n      <td>0.415269</td>\n      <td>0.239059</td>\n    </tr>\n    <tr>\n      <th>P_to_E</th>\n      <td>0.428870</td>\n      <td>0.267868</td>\n    </tr>\n  </tbody>\n</table>\n</div>"
     },
     "execution_count": 16,
     "metadata": {},
     "output_type": "execute_result"
    }
   ],
   "source": [
    "std = np.std(missing_ratio, axis=0)\n",
    "full_missing_ratio = missing_ratio[missing_ratio == 1].count()/missing_ratio.shape[0]\n",
    "pd.DataFrame({'std':std, 'fmr': full_missing_ratio})"
   ],
   "metadata": {
    "collapsed": false,
    "pycharm": {
     "name": "#%%\n"
    }
   }
  },
  {
   "cell_type": "code",
   "execution_count": 17,
   "outputs": [],
   "source": [
    "bad_groups = set(missing_ratio[missing_ratio.gicsSectorName == 1].index)\n",
    "mask = data.RanksID.apply(lambda x: x not in bad_groups)\n",
    "data.loc[~mask, gics_names] = 'unk'\n",
    "\n",
    "bad_groups = set(missing_ratio[missing_ratio.Country_of_Headquarters == 1].index)\n",
    "mask = data.RanksID.apply(lambda x: x not in bad_groups)\n",
    "data.loc[~mask, 'Country_of_Headquarters'] = 'unk'"
   ],
   "metadata": {
    "collapsed": false,
    "pycharm": {
     "name": "#%%\n"
    }
   }
  },
  {
   "cell_type": "code",
   "execution_count": 18,
   "outputs": [
    {
     "data": {
      "text/plain": "  Date_round    RanksID   Perf_1Y gicsSectorName  \\\n0 2018-10-01  000001.SZ  0.403677     Financials   \n1 2018-10-01  000002.SZ  0.077665    Real Estate   \n2 2018-10-01  000004.SZ  0.184231    Health Care   \n3 2018-10-01  000005.SZ  0.092832    Industrials   \n4 2018-10-01  000006.SZ -0.038956    Real Estate   \n\n                            gicsIndustryGroupName  \\\n0                                           Banks   \n1                                     Real Estate   \n2  Pharmaceuticals, Biotechnology & Life Sciences   \n3                                   Capital Goods   \n4                                     Real Estate   \n\n                       gicsIndustryName         gicsSubIndustryName  \\\n0                                 Banks           Diversified Banks   \n1  Real Estate Management & Development     Real Estate Development   \n2                         Biotechnology               Biotechnology   \n3            Construction & Engineering  Construction & Engineering   \n4  Real Estate Management & Development     Real Estate Development   \n\n  Country_of_Headquarters  Price_To_Tangible_Book_Value_Per_Share  \\\n0                   China                                0.878052   \n1                   China                                2.063162   \n2                   China                               12.376503   \n3                   China                                2.889434   \n4                   China                                1.340729   \n\n   C_Price_To_Tangible_Book_Value_Per_Share  ...  Enterprise_Value_to_Sales  \\\n0                                  0.878052  ...                   0.933977   \n1                                  2.063162  ...                   1.446793   \n2                                 12.376503  ...                   4.850075   \n3                                  2.889434  ...                   6.551868   \n4                                  1.340729  ...                   4.380339   \n\n   Price_To_Sales_Per_Share  Company_Shares  Enterprise_Value  \\\n0                  1.197598    1.717041e+10      21544.561094   \n1                  0.961264    1.103915e+10      58786.200697   \n2                  5.061343    8.397668e+07        186.298035   \n3                  5.177223    1.058537e+09        573.444302   \n4                  3.586666    1.349995e+09       1368.338296   \n\n   Free_Cash_Flow_net_of_Dividends_per_Share  \\\n0                                  -2.124969   \n1                                   0.891089   \n2                                   0.015726   \n3                                  -0.043560   \n4                                   0.026716   \n\n   C_Price_to_FCF_net_of_Dividends_per_Share  Enterprise_Value_to_EBITDA  \\\n0                                  -0.757146                    2.110452   \n1                                   3.970587                    7.345639   \n2                                 147.212974                         NaN   \n3                                  -9.827143                   58.339402   \n4                                  31.064816                   18.138648   \n\n   Enterprise_Value_to_Operating_Cash_Flow  Price_to_Cash_Flow_per_Share  \\\n0                                 8.778881                     11.256781   \n1                                 7.181804                      4.771664   \n2                                51.690039                     53.941640   \n3                                53.128253                     41.981439   \n4                                      NaN                           NaN   \n\n      P_to_E  \n0   8.201649  \n1   8.988747  \n2  93.222326  \n3  75.520164  \n4   7.916557  \n\n[5 rows x 22 columns]",
      "text/html": "<div>\n<style scoped>\n    .dataframe tbody tr th:only-of-type {\n        vertical-align: middle;\n    }\n\n    .dataframe tbody tr th {\n        vertical-align: top;\n    }\n\n    .dataframe thead th {\n        text-align: right;\n    }\n</style>\n<table border=\"1\" class=\"dataframe\">\n  <thead>\n    <tr style=\"text-align: right;\">\n      <th></th>\n      <th>Date_round</th>\n      <th>RanksID</th>\n      <th>Perf_1Y</th>\n      <th>gicsSectorName</th>\n      <th>gicsIndustryGroupName</th>\n      <th>gicsIndustryName</th>\n      <th>gicsSubIndustryName</th>\n      <th>Country_of_Headquarters</th>\n      <th>Price_To_Tangible_Book_Value_Per_Share</th>\n      <th>C_Price_To_Tangible_Book_Value_Per_Share</th>\n      <th>...</th>\n      <th>Enterprise_Value_to_Sales</th>\n      <th>Price_To_Sales_Per_Share</th>\n      <th>Company_Shares</th>\n      <th>Enterprise_Value</th>\n      <th>Free_Cash_Flow_net_of_Dividends_per_Share</th>\n      <th>C_Price_to_FCF_net_of_Dividends_per_Share</th>\n      <th>Enterprise_Value_to_EBITDA</th>\n      <th>Enterprise_Value_to_Operating_Cash_Flow</th>\n      <th>Price_to_Cash_Flow_per_Share</th>\n      <th>P_to_E</th>\n    </tr>\n  </thead>\n  <tbody>\n    <tr>\n      <th>0</th>\n      <td>2018-10-01</td>\n      <td>000001.SZ</td>\n      <td>0.403677</td>\n      <td>Financials</td>\n      <td>Banks</td>\n      <td>Banks</td>\n      <td>Diversified Banks</td>\n      <td>China</td>\n      <td>0.878052</td>\n      <td>0.878052</td>\n      <td>...</td>\n      <td>0.933977</td>\n      <td>1.197598</td>\n      <td>1.717041e+10</td>\n      <td>21544.561094</td>\n      <td>-2.124969</td>\n      <td>-0.757146</td>\n      <td>2.110452</td>\n      <td>8.778881</td>\n      <td>11.256781</td>\n      <td>8.201649</td>\n    </tr>\n    <tr>\n      <th>1</th>\n      <td>2018-10-01</td>\n      <td>000002.SZ</td>\n      <td>0.077665</td>\n      <td>Real Estate</td>\n      <td>Real Estate</td>\n      <td>Real Estate Management &amp; Development</td>\n      <td>Real Estate Development</td>\n      <td>China</td>\n      <td>2.063162</td>\n      <td>2.063162</td>\n      <td>...</td>\n      <td>1.446793</td>\n      <td>0.961264</td>\n      <td>1.103915e+10</td>\n      <td>58786.200697</td>\n      <td>0.891089</td>\n      <td>3.970587</td>\n      <td>7.345639</td>\n      <td>7.181804</td>\n      <td>4.771664</td>\n      <td>8.988747</td>\n    </tr>\n    <tr>\n      <th>2</th>\n      <td>2018-10-01</td>\n      <td>000004.SZ</td>\n      <td>0.184231</td>\n      <td>Health Care</td>\n      <td>Pharmaceuticals, Biotechnology &amp; Life Sciences</td>\n      <td>Biotechnology</td>\n      <td>Biotechnology</td>\n      <td>China</td>\n      <td>12.376503</td>\n      <td>12.376503</td>\n      <td>...</td>\n      <td>4.850075</td>\n      <td>5.061343</td>\n      <td>8.397668e+07</td>\n      <td>186.298035</td>\n      <td>0.015726</td>\n      <td>147.212974</td>\n      <td>NaN</td>\n      <td>51.690039</td>\n      <td>53.941640</td>\n      <td>93.222326</td>\n    </tr>\n    <tr>\n      <th>3</th>\n      <td>2018-10-01</td>\n      <td>000005.SZ</td>\n      <td>0.092832</td>\n      <td>Industrials</td>\n      <td>Capital Goods</td>\n      <td>Construction &amp; Engineering</td>\n      <td>Construction &amp; Engineering</td>\n      <td>China</td>\n      <td>2.889434</td>\n      <td>2.889434</td>\n      <td>...</td>\n      <td>6.551868</td>\n      <td>5.177223</td>\n      <td>1.058537e+09</td>\n      <td>573.444302</td>\n      <td>-0.043560</td>\n      <td>-9.827143</td>\n      <td>58.339402</td>\n      <td>53.128253</td>\n      <td>41.981439</td>\n      <td>75.520164</td>\n    </tr>\n    <tr>\n      <th>4</th>\n      <td>2018-10-01</td>\n      <td>000006.SZ</td>\n      <td>-0.038956</td>\n      <td>Real Estate</td>\n      <td>Real Estate</td>\n      <td>Real Estate Management &amp; Development</td>\n      <td>Real Estate Development</td>\n      <td>China</td>\n      <td>1.340729</td>\n      <td>1.340729</td>\n      <td>...</td>\n      <td>4.380339</td>\n      <td>3.586666</td>\n      <td>1.349995e+09</td>\n      <td>1368.338296</td>\n      <td>0.026716</td>\n      <td>31.064816</td>\n      <td>18.138648</td>\n      <td>NaN</td>\n      <td>NaN</td>\n      <td>7.916557</td>\n    </tr>\n  </tbody>\n</table>\n<p>5 rows × 22 columns</p>\n</div>"
     },
     "execution_count": 18,
     "metadata": {},
     "output_type": "execute_result"
    }
   ],
   "source": [
    "data.head()"
   ],
   "metadata": {
    "collapsed": false,
    "pycharm": {
     "name": "#%%\n"
    }
   }
  },
  {
   "cell_type": "code",
   "execution_count": 19,
   "outputs": [
    {
     "name": "stdout",
     "output_type": "stream",
     "text": [
      "CPU times: user 159 ms, sys: 36.2 ms, total: 195 ms\n",
      "Wall time: 223 ms\n"
     ]
    }
   ],
   "source": [
    "%%time\n",
    "t = data.sort_values(['RanksID', 'Date_round'])"
   ],
   "metadata": {
    "collapsed": false,
    "pycharm": {
     "name": "#%%\n"
    }
   }
  },
  {
   "cell_type": "code",
   "execution_count": 20,
   "outputs": [
    {
     "name": "stdout",
     "output_type": "stream",
     "text": [
      "CPU times: user 3min 38s, sys: 2.66 s, total: 3min 41s\n",
      "Wall time: 3min 48s\n"
     ]
    }
   ],
   "source": [
    "%%time\n",
    "t = t.groupby('RanksID').agg(lambda x: x.interpolate(method='pad', limit_area='inside').tolist())"
   ],
   "metadata": {
    "collapsed": false,
    "pycharm": {
     "name": "#%%\n"
    }
   }
  },
  {
   "cell_type": "code",
   "execution_count": 21,
   "outputs": [
    {
     "name": "stdout",
     "output_type": "stream",
     "text": [
      "CPU times: user 1.26 s, sys: 123 ms, total: 1.39 s\n",
      "Wall time: 1.41 s\n"
     ]
    }
   ],
   "source": [
    "%%time\n",
    "t = t.apply(pd.Series.explode).reset_index()"
   ],
   "metadata": {
    "collapsed": false,
    "pycharm": {
     "name": "#%%\n"
    }
   }
  },
  {
   "cell_type": "code",
   "execution_count": 23,
   "outputs": [
    {
     "name": "stdout",
     "output_type": "stream",
     "text": [
      "CPU times: user 1min 7s, sys: 1.26 s, total: 1min 8s\n",
      "Wall time: 1min 9s\n"
     ]
    }
   ],
   "source": [
    "%%time\n",
    "cols = reg_columns\n",
    "nan_mask = t[cols].isna()\n",
    "mean_by_days = t[cols + ['Date_round']].groupby('Date_round').mean()\n",
    "\n",
    "clear_data = t[cols].copy()\n",
    "clear_data[nan_mask] = t[cols  + ['Date_round']].apply(lambda x: mean_by_days.loc[x.Date_round], axis=1)[cols]\n",
    "clear_data = pd.merge(clear_data, t[['Date_round', 'RanksID', 'Perf_1Y'] + cat_columns], left_index=True, right_index=True)"
   ],
   "metadata": {
    "collapsed": false,
    "pycharm": {
     "name": "#%%\n"
    }
   }
  },
  {
   "cell_type": "code",
   "execution_count": 24,
   "outputs": [
    {
     "data": {
      "text/plain": "Price_To_Tangible_Book_Value_Per_Share       0\nC_Price_To_Tangible_Book_Value_Per_Share     0\nPrice_To_Book_Value_Per_Share                0\nC_Price_To_Book_Value_Per_Share              0\nEnterprise_Value_to_Sales                    0\nPrice_To_Sales_Per_Share                     0\nCompany_Shares                               0\nEnterprise_Value                             0\nFree_Cash_Flow_net_of_Dividends_per_Share    0\nC_Price_to_FCF_net_of_Dividends_per_Share    0\nEnterprise_Value_to_EBITDA                   0\nEnterprise_Value_to_Operating_Cash_Flow      0\nPrice_to_Cash_Flow_per_Share                 0\nP_to_E                                       0\nDate_round                                   0\nRanksID                                      0\nPerf_1Y                                      0\ngicsSectorName                               0\ngicsIndustryGroupName                        0\ngicsIndustryName                             0\ngicsSubIndustryName                          0\nCountry_of_Headquarters                      0\ndtype: int64"
     },
     "execution_count": 24,
     "metadata": {},
     "output_type": "execute_result"
    }
   ],
   "source": [
    "clear_data.isna().sum()"
   ],
   "metadata": {
    "collapsed": false,
    "pycharm": {
     "name": "#%%\n"
    }
   }
  },
  {
   "cell_type": "code",
   "execution_count": 24,
   "outputs": [
    {
     "data": {
      "text/plain": "RanksID                                           0\nDate_round                                        0\nPerf_1Y                                           0\ngicsSectorName                               274113\ngicsIndustryGroupName                        274113\ngicsIndustryName                             274113\ngicsSubIndustryName                          274113\nCountry_of_Headquarters                       58247\nPrice_To_Tangible_Book_Value_Per_Share       165647\nC_Price_To_Tangible_Book_Value_Per_Share     165647\nPrice_To_Book_Value_Per_Share                165740\nC_Price_To_Book_Value_Per_Share              165740\nEnterprise_Value_to_Sales                    216962\nPrice_To_Sales_Per_Share                     216628\nCompany_Shares                               125413\nEnterprise_Value                             138377\nFree_Cash_Flow_net_of_Dividends_per_Share    352638\nC_Price_to_FCF_net_of_Dividends_per_Share    353015\nEnterprise_Value_to_EBITDA                   350858\nEnterprise_Value_to_Operating_Cash_Flow      373994\nPrice_to_Cash_Flow_per_Share                 373717\nP_to_E                                       390708\ndtype: int64"
     },
     "execution_count": 24,
     "metadata": {},
     "output_type": "execute_result"
    }
   ],
   "source": [
    "t.isna().sum()"
   ],
   "metadata": {
    "collapsed": false,
    "pycharm": {
     "name": "#%%\n"
    }
   }
  },
  {
   "cell_type": "code",
   "execution_count": 25,
   "outputs": [],
   "source": [
    "clear_data.to_csv(join(data_path, 'clear_test_data.csv'), index=False)"
   ],
   "metadata": {
    "collapsed": false,
    "pycharm": {
     "name": "#%%\n"
    }
   }
  }
 ],
 "metadata": {
  "kernelspec": {
   "display_name": "Python 3",
   "language": "python",
   "name": "python3"
  },
  "language_info": {
   "codemirror_mode": {
    "name": "ipython",
    "version": 2
   },
   "file_extension": ".py",
   "mimetype": "text/x-python",
   "name": "python",
   "nbconvert_exporter": "python",
   "pygments_lexer": "ipython2",
   "version": "2.7.6"
  }
 },
 "nbformat": 4,
 "nbformat_minor": 0
}