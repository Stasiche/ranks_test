{
 "cells": [
  {
   "cell_type": "code",
   "execution_count": 1,
   "metadata": {
    "collapsed": true,
    "pycharm": {
     "name": "#%%\n"
    }
   },
   "outputs": [],
   "source": [
    "import pandas as pd\n",
    "import numpy as np\n",
    "from os.path import join\n",
    "import matplotlib.pyplot as plt"
   ]
  },
  {
   "cell_type": "code",
   "execution_count": 2,
   "outputs": [],
   "source": [
    "data_path = 'data'"
   ],
   "metadata": {
    "collapsed": false,
    "pycharm": {
     "name": "#%%\n"
    }
   }
  },
  {
   "cell_type": "code",
   "execution_count": 3,
   "outputs": [
    {
     "data": {
      "text/plain": "0.02935743492866544"
     },
     "execution_count": 3,
     "metadata": {},
     "output_type": "execute_result"
    }
   ],
   "source": [
    "data = pd.read_csv(join(data_path, 'train.csv'), parse_dates=['Date_round'])\n",
    "# data = data.sample(n=10000)\n",
    "data.isna().sum(axis=0).Perf_1Y/data.shape[0]"
   ],
   "metadata": {
    "collapsed": false,
    "pycharm": {
     "name": "#%%\n"
    }
   }
  },
  {
   "cell_type": "code",
   "execution_count": 4,
   "outputs": [],
   "source": [
    "cnt = data.groupby('RanksID').count()['Date_round']"
   ],
   "metadata": {
    "collapsed": false,
    "pycharm": {
     "name": "#%%\n"
    }
   }
  },
  {
   "cell_type": "code",
   "execution_count": 5,
   "outputs": [
    {
     "data": {
      "text/plain": "<Figure size 640x480 with 1 Axes>",
      "image/png": "[encoded data removed]"
     },
     "metadata": {},
     "output_type": "display_data"
    }
   ],
   "source": [
    "plt.hist(cnt,bins=20);"
   ],
   "metadata": {
    "collapsed": false,
    "pycharm": {
     "name": "#%%\n"
    }
   }
  },
  {
   "cell_type": "code",
   "execution_count": 6,
   "outputs": [
    {
     "name": "stdout",
     "output_type": "stream",
     "text": [
      "th: 0, groups_num: 60671, ratio: 1.0\n",
      "th: 1, groups_num: 57685, ratio: 0.9508\n",
      "th: 2, groups_num: 55216, ratio: 0.9101\n",
      "th: 5, groups_num: 49413, ratio: 0.8144\n",
      "th: 10, groups_num: 42753, ratio: 0.7047\n",
      "th: 20, groups_num: 31133, ratio: 0.5131\n",
      "th: 30, groups_num: 24587, ratio: 0.4053\n",
      "th: 40, groups_num: 17990, ratio: 0.2965\n",
      "th: 50, groups_num: 0, ratio: 0.0\n"
     ]
    }
   ],
   "source": [
    "for th in [0, 1, 2, 5, 10, 20, 30, 40, 50]:\n",
    "       print(f'th: {th}, '\n",
    "             f'groups_num: {cnt[cnt > th].shape[0]}, '\n",
    "             f'ratio: {round(cnt[cnt > th].shape[0]/cnt.shape[0], 4)}')"
   ],
   "metadata": {
    "collapsed": false,
    "pycharm": {
     "name": "#%%\n"
    }
   }
  },
  {
   "cell_type": "code",
   "execution_count": 8,
   "outputs": [
    {
     "data": {
      "text/plain": "0.0"
     },
     "execution_count": 8,
     "metadata": {},
     "output_type": "execute_result"
    }
   ],
   "source": [
    "data = data[~data.Perf_1Y.isna()]\n",
    "data.isna().sum(axis=0).Perf_1Y/data.shape[0]"
   ],
   "metadata": {
    "collapsed": false,
    "pycharm": {
     "name": "#%%\n"
    }
   }
  },
  {
   "cell_type": "code",
   "execution_count": 11,
   "outputs": [
    {
     "data": {
      "text/plain": "Date_round                                   0.000000\nRanksID                                      0.000000\nPerf_1Y                                      0.000000\nCountry_of_Headquarters                      0.040545\nPrice_To_Tangible_Book_Value_Per_Share       0.115976\nC_Price_To_Tangible_Book_Value_Per_Share     0.115976\nPrice_To_Book_Value_Per_Share                0.116038\nC_Price_To_Book_Value_Per_Share              0.116038\nEnterprise_Value_to_Sales                    0.158923\nPrice_To_Sales_Per_Share                     0.158958\nCompany_Shares                               0.171928\nMCap_group                                   0.172405\nEnterprise_Value                             0.180746\ngicsSectorName                               0.190805\ngicsIndustryGroupName                        0.190805\ngicsIndustryName                             0.190805\ngicsSubIndustryName                          0.190805\nFree_Cash_Flow_net_of_Dividends_per_Share    0.254497\nC_Price_to_FCF_net_of_Dividends_per_Share    0.254829\nEnterprise_Value_to_EBITDA                   0.300106\nEnterprise_Value_to_Operating_Cash_Flow      0.375326\nPrice_to_Cash_Flow_per_Share                 0.375367\nP_to_E                                       0.376828\nCommon_Stock_Buyback_Net                     0.791795\nEBITDA_Q                                     0.795162\nC_Common_Stock_Buyback_Net                   0.815773\nCommon_Stock_Buyback_Net_Q                   0.890025\nC_P_del_E_Q                                  0.890635\nC_P_del_BV_Q                                 0.890991\nC_EV_del_EBITDA_Q                            0.892076\nC_P_del_FCF_Q                                0.892843\nC_P_del_S_Q                                  0.894983\nC_EV_del_Sales_Q                             0.895127\nC_Buyback_Q                                  0.939601\ndtype: float64"
     },
     "execution_count": 11,
     "metadata": {},
     "output_type": "execute_result"
    }
   ],
   "source": [
    "missing_values = data.isna().sum(axis=0)/data.shape[0]\n",
    "missing_values.sort_values()"
   ],
   "metadata": {
    "collapsed": false,
    "pycharm": {
     "name": "#%%\n"
    }
   }
  },
  {
   "cell_type": "code",
   "execution_count": 12,
   "outputs": [
    {
     "data": {
      "text/plain": "['Date_round',\n 'RanksID',\n 'Perf_1Y',\n 'Country_of_Headquarters',\n 'Price_To_Tangible_Book_Value_Per_Share',\n 'C_Price_To_Tangible_Book_Value_Per_Share',\n 'Price_To_Book_Value_Per_Share',\n 'C_Price_To_Book_Value_Per_Share',\n 'Enterprise_Value_to_Sales',\n 'Price_To_Sales_Per_Share',\n 'Company_Shares',\n 'MCap_group',\n 'Enterprise_Value',\n 'gicsSectorName',\n 'gicsIndustryGroupName',\n 'gicsIndustryName',\n 'gicsSubIndustryName',\n 'Free_Cash_Flow_net_of_Dividends_per_Share',\n 'C_Price_to_FCF_net_of_Dividends_per_Share',\n 'Enterprise_Value_to_EBITDA',\n 'Enterprise_Value_to_Operating_Cash_Flow',\n 'Price_to_Cash_Flow_per_Share',\n 'P_to_E']"
     },
     "execution_count": 12,
     "metadata": {},
     "output_type": "execute_result"
    }
   ],
   "source": [
    "tmp = missing_values.sort_values()\n",
    "tmp[tmp<0.4].index.to_list()"
   ],
   "metadata": {
    "collapsed": false,
    "pycharm": {
     "name": "#%%\n"
    }
   }
  },
  {
   "cell_type": "code",
   "execution_count": 13,
   "outputs": [],
   "source": [
    "valid_columns = ['Date_round', 'RanksID', 'Perf_1Y', 'Country_of_Headquarters',\n",
    "       'Price_To_Tangible_Book_Value_Per_Share',\n",
    "       'C_Price_To_Tangible_Book_Value_Per_Share',\n",
    "       'Price_To_Book_Value_Per_Share', 'C_Price_To_Book_Value_Per_Share',\n",
    "       'Enterprise_Value_to_Sales', 'Price_To_Sales_Per_Share',\n",
    "       'Company_Shares', 'MCap_group', 'Enterprise_Value', 'gicsSectorName',\n",
    "       'gicsIndustryGroupName', 'gicsIndustryName', 'gicsSubIndustryName',\n",
    "       'Free_Cash_Flow_net_of_Dividends_per_Share',\n",
    "       'C_Price_to_FCF_net_of_Dividends_per_Share',\n",
    "       'Enterprise_Value_to_EBITDA', 'Enterprise_Value_to_Operating_Cash_Flow',\n",
    "       'Price_to_Cash_Flow_per_Share', 'P_to_E']\n",
    "\n",
    "gics_names = ['gicsSectorName', 'gicsIndustryGroupName','gicsIndustryName','gicsSubIndustryName']\n",
    "\n",
    "useless_columns = ['MCap_group']\n",
    "\n",
    "util_columns = ['Date_round', 'RanksID', 'Perf_1Y']\n",
    "cat_columns = gics_names + ['Country_of_Headquarters']\n",
    "reg_columns = [el for el in valid_columns if el not in useless_columns + cat_columns + util_columns]"
   ],
   "metadata": {
    "collapsed": false,
    "pycharm": {
     "name": "#%%\n"
    }
   }
  },
  {
   "cell_type": "code",
   "execution_count": 14,
   "outputs": [],
   "source": [
    "data = data[util_columns + cat_columns + reg_columns]"
   ],
   "metadata": {
    "collapsed": false,
    "pycharm": {
     "name": "#%%\n"
    }
   }
  },
  {
   "cell_type": "code",
   "execution_count": 15,
   "outputs": [
    {
     "name": "stdout",
     "output_type": "stream",
     "text": [
      "CPU times: user 3min 11s, sys: 3.74 s, total: 3min 15s\n",
      "Wall time: 3min 28s\n"
     ]
    },
    {
     "data": {
      "text/plain": "            Date_round  Perf_1Y  gicsSectorName  gicsIndustryGroupName  \\\nRanksID                                                                  \n000001.SZ          0.0      0.0             0.0                    0.0   \n000002.SZ          0.0      0.0             0.0                    0.0   \n000004.SZ          0.0      0.0             0.0                    0.0   \n000005.SZ          0.0      0.0             0.0                    0.0   \n000006.SZ          0.0      0.0             0.0                    0.0   \n...                ...      ...             ...                    ...   \nZZZ.TO             0.0      0.0             0.0                    0.0   \nZZ^C13             0.0      0.0             1.0                    1.0   \nZZb.ST             0.0      0.0             0.0                    0.0   \nZ_u.TO^I08         0.0      0.0             1.0                    1.0   \nZh.V               0.0      0.0             1.0                    1.0   \n\n            gicsIndustryName  gicsSubIndustryName  Country_of_Headquarters  \\\nRanksID                                                                      \n000001.SZ                0.0                  0.0                      0.0   \n000002.SZ                0.0                  0.0                      0.0   \n000004.SZ                0.0                  0.0                      0.0   \n000005.SZ                0.0                  0.0                      0.0   \n000006.SZ                0.0                  0.0                      0.0   \n...                      ...                  ...                      ...   \nZZZ.TO                   0.0                  0.0                      0.0   \nZZ^C13                   1.0                  1.0                      0.0   \nZZb.ST                   0.0                  0.0                      0.0   \nZ_u.TO^I08               1.0                  1.0                      0.0   \nZh.V                     1.0                  1.0                      1.0   \n\n            Price_To_Tangible_Book_Value_Per_Share  \\\nRanksID                                              \n000001.SZ                                 0.000000   \n000002.SZ                                 0.021739   \n000004.SZ                                 0.000000   \n000005.SZ                                 0.000000   \n000006.SZ                                 0.000000   \n...                                            ...   \nZZZ.TO                                    0.000000   \nZZ^C13                                    0.190476   \nZZb.ST                                    0.064516   \nZ_u.TO^I08                                1.000000   \nZh.V                                      1.000000   \n\n            C_Price_To_Tangible_Book_Value_Per_Share  \\\nRanksID                                                \n000001.SZ                                   0.000000   \n000002.SZ                                   0.021739   \n000004.SZ                                   0.000000   \n000005.SZ                                   0.000000   \n000006.SZ                                   0.000000   \n...                                              ...   \nZZZ.TO                                      0.000000   \nZZ^C13                                      0.190476   \nZZb.ST                                      0.064516   \nZ_u.TO^I08                                  1.000000   \nZh.V                                        1.000000   \n\n            Price_To_Book_Value_Per_Share  ...  Enterprise_Value_to_Sales  \\\nRanksID                                    ...                              \n000001.SZ                        0.000000  ...                   0.000000   \n000002.SZ                        0.021739  ...                   0.000000   \n000004.SZ                        0.000000  ...                   0.000000   \n000005.SZ                        0.000000  ...                   0.000000   \n000006.SZ                        0.000000  ...                   0.000000   \n...                                   ...  ...                        ...   \nZZZ.TO                           0.000000  ...                   0.000000   \nZZ^C13                           0.190476  ...                   0.190476   \nZZb.ST                           0.064516  ...                   0.064516   \nZ_u.TO^I08                       1.000000  ...                   1.000000   \nZh.V                             1.000000  ...                   1.000000   \n\n            Price_To_Sales_Per_Share  Company_Shares  Enterprise_Value  \\\nRanksID                                                                  \n000001.SZ                   0.000000        0.088889          0.088889   \n000002.SZ                   0.021739        0.086957          0.086957   \n000004.SZ                   0.000000        0.095238          0.095238   \n000005.SZ                   0.000000        0.081081          0.081081   \n000006.SZ                   0.000000        0.046512          0.046512   \n...                              ...             ...               ...   \nZZZ.TO                      0.000000        0.166667          0.166667   \nZZ^C13                      0.190476        0.190476          0.190476   \nZZb.ST                      0.064516        0.258065          0.258065   \nZ_u.TO^I08                  1.000000        1.000000          1.000000   \nZh.V                        1.000000        1.000000          1.000000   \n\n            Free_Cash_Flow_net_of_Dividends_per_Share  \\\nRanksID                                                 \n000001.SZ                                    0.088889   \n000002.SZ                                    0.000000   \n000004.SZ                                    0.000000   \n000005.SZ                                    0.000000   \n000006.SZ                                    0.000000   \n...                                               ...   \nZZZ.TO                                       0.000000   \nZZ^C13                                       1.000000   \nZZb.ST                                       0.064516   \nZ_u.TO^I08                                   1.000000   \nZh.V                                         1.000000   \n\n            C_Price_to_FCF_net_of_Dividends_per_Share  \\\nRanksID                                                 \n000001.SZ                                    0.088889   \n000002.SZ                                    0.000000   \n000004.SZ                                    0.000000   \n000005.SZ                                    0.000000   \n000006.SZ                                    0.000000   \n...                                               ...   \nZZZ.TO                                       0.000000   \nZZ^C13                                       1.000000   \nZZb.ST                                       0.064516   \nZ_u.TO^I08                                   1.000000   \nZh.V                                         1.000000   \n\n            Enterprise_Value_to_EBITDA  \\\nRanksID                                  \n000001.SZ                     0.000000   \n000002.SZ                     0.000000   \n000004.SZ                     0.238095   \n000005.SZ                     0.675676   \n000006.SZ                     0.023256   \n...                                ...   \nZZZ.TO                        0.000000   \nZZ^C13                        0.190476   \nZZb.ST                        0.064516   \nZ_u.TO^I08                    1.000000   \nZh.V                          1.000000   \n\n            Enterprise_Value_to_Operating_Cash_Flow  \\\nRanksID                                               \n000001.SZ                                  0.222222   \n000002.SZ                                  0.326087   \n000004.SZ                                  0.309524   \n000005.SZ                                  0.567568   \n000006.SZ                                  0.441860   \n...                                             ...   \nZZZ.TO                                     0.000000   \nZZ^C13                                     0.190476   \nZZb.ST                                     0.096774   \nZ_u.TO^I08                                 1.000000   \nZh.V                                       1.000000   \n\n            Price_to_Cash_Flow_per_Share    P_to_E  \nRanksID                                             \n000001.SZ                       0.222222  0.000000  \n000002.SZ                       0.347826  0.021739  \n000004.SZ                       0.309524  0.333333  \n000005.SZ                       0.567568  0.513514  \n000006.SZ                       0.441860  0.023256  \n...                                  ...       ...  \nZZZ.TO                          0.000000  0.333333  \nZZ^C13                          0.190476  0.428571  \nZZb.ST                          0.096774  0.064516  \nZ_u.TO^I08                      1.000000  1.000000  \nZh.V                            1.000000  1.000000  \n\n[58763 rows x 21 columns]",
      "text/html": "<div>\n<style scoped>\n    .dataframe tbody tr th:only-of-type {\n        vertical-align: middle;\n    }\n\n    .dataframe tbody tr th {\n        vertical-align: top;\n    }\n\n    .dataframe thead th {\n        text-align: right;\n    }\n</style>\n<table border=\"1\" class=\"dataframe\">\n  <thead>\n    <tr style=\"text-align: right;\">\n      <th></th>\n      <th>Date_round</th>\n      <th>Perf_1Y</th>\n      <th>gicsSectorName</th>\n      <th>gicsIndustryGroupName</th>\n      <th>gicsIndustryName</th>\n      <th>gicsSubIndustryName</th>\n      <th>Country_of_Headquarters</th>\n      <th>Price_To_Tangible_Book_Value_Per_Share</th>\n      <th>C_Price_To_Tangible_Book_Value_Per_Share</th>\n      <th>Price_To_Book_Value_Per_Share</th>\n      <th>...</th>\n      <th>Enterprise_Value_to_Sales</th>\n      <th>Price_To_Sales_Per_Share</th>\n      <th>Company_Shares</th>\n      <th>Enterprise_Value</th>\n      <th>Free_Cash_Flow_net_of_Dividends_per_Share</th>\n      <th>C_Price_to_FCF_net_of_Dividends_per_Share</th>\n      <th>Enterprise_Value_to_EBITDA</th>\n      <th>Enterprise_Value_to_Operating_Cash_Flow</th>\n      <th>Price_to_Cash_Flow_per_Share</th>\n      <th>P_to_E</th>\n    </tr>\n    <tr>\n      <th>RanksID</th>\n      <th></th>\n      <th></th>\n      <th></th>\n      <th></th>\n      <th></th>\n      <th></th>\n      <th></th>\n      <th></th>\n      <th></th>\n      <th></th>\n      <th></th>\n      <th></th>\n      <th></th>\n      <th></th>\n      <th></th>\n      <th></th>\n      <th></th>\n      <th></th>\n      <th></th>\n      <th></th>\n      <th></th>\n    </tr>\n  </thead>\n  <tbody>\n    <tr>\n      <th>000001.SZ</th>\n      <td>0.0</td>\n      <td>0.0</td>\n      <td>0.0</td>\n      <td>0.0</td>\n      <td>0.0</td>\n      <td>0.0</td>\n      <td>0.0</td>\n      <td>0.000000</td>\n      <td>0.000000</td>\n      <td>0.000000</td>\n      <td>...</td>\n      <td>0.000000</td>\n      <td>0.000000</td>\n      <td>0.088889</td>\n      <td>0.088889</td>\n      <td>0.088889</td>\n      <td>0.088889</td>\n      <td>0.000000</td>\n      <td>0.222222</td>\n      <td>0.222222</td>\n      <td>0.000000</td>\n    </tr>\n    <tr>\n      <th>000002.SZ</th>\n      <td>0.0</td>\n      <td>0.0</td>\n      <td>0.0</td>\n      <td>0.0</td>\n      <td>0.0</td>\n      <td>0.0</td>\n      <td>0.0</td>\n      <td>0.021739</td>\n      <td>0.021739</td>\n      <td>0.021739</td>\n      <td>...</td>\n      <td>0.000000</td>\n      <td>0.021739</td>\n      <td>0.086957</td>\n      <td>0.086957</td>\n      <td>0.000000</td>\n      <td>0.000000</td>\n      <td>0.000000</td>\n      <td>0.326087</td>\n      <td>0.347826</td>\n      <td>0.021739</td>\n    </tr>\n    <tr>\n      <th>000004.SZ</th>\n      <td>0.0</td>\n      <td>0.0</td>\n      <td>0.0</td>\n      <td>0.0</td>\n      <td>0.0</td>\n      <td>0.0</td>\n      <td>0.0</td>\n      <td>0.000000</td>\n      <td>0.000000</td>\n      <td>0.000000</td>\n      <td>...</td>\n      <td>0.000000</td>\n      <td>0.000000</td>\n      <td>0.095238</td>\n      <td>0.095238</td>\n      <td>0.000000</td>\n      <td>0.000000</td>\n      <td>0.238095</td>\n      <td>0.309524</td>\n      <td>0.309524</td>\n      <td>0.333333</td>\n    </tr>\n    <tr>\n      <th>000005.SZ</th>\n      <td>0.0</td>\n      <td>0.0</td>\n      <td>0.0</td>\n      <td>0.0</td>\n      <td>0.0</td>\n      <td>0.0</td>\n      <td>0.0</td>\n      <td>0.000000</td>\n      <td>0.000000</td>\n      <td>0.000000</td>\n      <td>...</td>\n      <td>0.000000</td>\n      <td>0.000000</td>\n      <td>0.081081</td>\n      <td>0.081081</td>\n      <td>0.000000</td>\n      <td>0.000000</td>\n      <td>0.675676</td>\n      <td>0.567568</td>\n      <td>0.567568</td>\n      <td>0.513514</td>\n    </tr>\n    <tr>\n      <th>000006.SZ</th>\n      <td>0.0</td>\n      <td>0.0</td>\n      <td>0.0</td>\n      <td>0.0</td>\n      <td>0.0</td>\n      <td>0.0</td>\n      <td>0.0</td>\n      <td>0.000000</td>\n      <td>0.000000</td>\n      <td>0.000000</td>\n      <td>...</td>\n      <td>0.000000</td>\n      <td>0.000000</td>\n      <td>0.046512</td>\n      <td>0.046512</td>\n      <td>0.000000</td>\n      <td>0.000000</td>\n      <td>0.023256</td>\n      <td>0.441860</td>\n      <td>0.441860</td>\n      <td>0.023256</td>\n    </tr>\n    <tr>\n      <th>...</th>\n      <td>...</td>\n      <td>...</td>\n      <td>...</td>\n      <td>...</td>\n      <td>...</td>\n      <td>...</td>\n      <td>...</td>\n      <td>...</td>\n      <td>...</td>\n      <td>...</td>\n      <td>...</td>\n      <td>...</td>\n      <td>...</td>\n      <td>...</td>\n      <td>...</td>\n      <td>...</td>\n      <td>...</td>\n      <td>...</td>\n      <td>...</td>\n      <td>...</td>\n      <td>...</td>\n    </tr>\n    <tr>\n      <th>ZZZ.TO</th>\n      <td>0.0</td>\n      <td>0.0</td>\n      <td>0.0</td>\n      <td>0.0</td>\n      <td>0.0</td>\n      <td>0.0</td>\n      <td>0.0</td>\n      <td>0.000000</td>\n      <td>0.000000</td>\n      <td>0.000000</td>\n      <td>...</td>\n      <td>0.000000</td>\n      <td>0.000000</td>\n      <td>0.166667</td>\n      <td>0.166667</td>\n      <td>0.000000</td>\n      <td>0.000000</td>\n      <td>0.000000</td>\n      <td>0.000000</td>\n      <td>0.000000</td>\n      <td>0.333333</td>\n    </tr>\n    <tr>\n      <th>ZZ^C13</th>\n      <td>0.0</td>\n      <td>0.0</td>\n      <td>1.0</td>\n      <td>1.0</td>\n      <td>1.0</td>\n      <td>1.0</td>\n      <td>0.0</td>\n      <td>0.190476</td>\n      <td>0.190476</td>\n      <td>0.190476</td>\n      <td>...</td>\n      <td>0.190476</td>\n      <td>0.190476</td>\n      <td>0.190476</td>\n      <td>0.190476</td>\n      <td>1.000000</td>\n      <td>1.000000</td>\n      <td>0.190476</td>\n      <td>0.190476</td>\n      <td>0.190476</td>\n      <td>0.428571</td>\n    </tr>\n    <tr>\n      <th>ZZb.ST</th>\n      <td>0.0</td>\n      <td>0.0</td>\n      <td>0.0</td>\n      <td>0.0</td>\n      <td>0.0</td>\n      <td>0.0</td>\n      <td>0.0</td>\n      <td>0.064516</td>\n      <td>0.064516</td>\n      <td>0.064516</td>\n      <td>...</td>\n      <td>0.064516</td>\n      <td>0.064516</td>\n      <td>0.258065</td>\n      <td>0.258065</td>\n      <td>0.064516</td>\n      <td>0.064516</td>\n      <td>0.064516</td>\n      <td>0.096774</td>\n      <td>0.096774</td>\n      <td>0.064516</td>\n    </tr>\n    <tr>\n      <th>Z_u.TO^I08</th>\n      <td>0.0</td>\n      <td>0.0</td>\n      <td>1.0</td>\n      <td>1.0</td>\n      <td>1.0</td>\n      <td>1.0</td>\n      <td>0.0</td>\n      <td>1.000000</td>\n      <td>1.000000</td>\n      <td>1.000000</td>\n      <td>...</td>\n      <td>1.000000</td>\n      <td>1.000000</td>\n      <td>1.000000</td>\n      <td>1.000000</td>\n      <td>1.000000</td>\n      <td>1.000000</td>\n      <td>1.000000</td>\n      <td>1.000000</td>\n      <td>1.000000</td>\n      <td>1.000000</td>\n    </tr>\n    <tr>\n      <th>Zh.V</th>\n      <td>0.0</td>\n      <td>0.0</td>\n      <td>1.0</td>\n      <td>1.0</td>\n      <td>1.0</td>\n      <td>1.0</td>\n      <td>1.0</td>\n      <td>1.000000</td>\n      <td>1.000000</td>\n      <td>1.000000</td>\n      <td>...</td>\n      <td>1.000000</td>\n      <td>1.000000</td>\n      <td>1.000000</td>\n      <td>1.000000</td>\n      <td>1.000000</td>\n      <td>1.000000</td>\n      <td>1.000000</td>\n      <td>1.000000</td>\n      <td>1.000000</td>\n      <td>1.000000</td>\n    </tr>\n  </tbody>\n</table>\n<p>58763 rows × 21 columns</p>\n</div>"
     },
     "execution_count": 15,
     "metadata": {},
     "output_type": "execute_result"
    }
   ],
   "source": [
    "%%time\n",
    "missing_ratio = data.groupby('RanksID').agg(lambda x: x.isna().sum(axis=0)/x.shape[0])\n",
    "missing_ratio"
   ],
   "metadata": {
    "collapsed": false,
    "pycharm": {
     "name": "#%%\n"
    }
   }
  },
  {
   "cell_type": "code",
   "execution_count": 16,
   "outputs": [
    {
     "data": {
      "text/plain": "                                                std       fmr\nDate_round                                 0.000000  0.000000\nPerf_1Y                                    0.000000  0.000000\ngicsSectorName                             0.464710  0.315488\ngicsIndustryGroupName                      0.464710  0.315488\ngicsIndustryName                           0.464710  0.315488\ngicsSubIndustryName                        0.464710  0.315488\nCountry_of_Headquarters                    0.196098  0.040059\nPrice_To_Tangible_Book_Value_Per_Share     0.371134  0.160356\nC_Price_To_Tangible_Book_Value_Per_Share   0.371134  0.160356\nPrice_To_Book_Value_Per_Share              0.371144  0.160373\nC_Price_To_Book_Value_Per_Share            0.371144  0.160373\nEnterprise_Value_to_Sales                  0.396783  0.195599\nPrice_To_Sales_Per_Share                   0.396696  0.195395\nCompany_Shares                             0.327952  0.143236\nEnterprise_Value                           0.343046  0.164423\nFree_Cash_Flow_net_of_Dividends_per_Share  0.468758  0.354560\nC_Price_to_FCF_net_of_Dividends_per_Share  0.468649  0.354747\nEnterprise_Value_to_EBITDA                 0.423262  0.267924\nEnterprise_Value_to_Operating_Cash_Flow    0.398841  0.268792\nPrice_to_Cash_Flow_per_Share               0.398979  0.268536\nP_to_E                                     0.407086  0.265167",
      "text/html": "<div>\n<style scoped>\n    .dataframe tbody tr th:only-of-type {\n        vertical-align: middle;\n    }\n\n    .dataframe tbody tr th {\n        vertical-align: top;\n    }\n\n    .dataframe thead th {\n        text-align: right;\n    }\n</style>\n<table border=\"1\" class=\"dataframe\">\n  <thead>\n    <tr style=\"text-align: right;\">\n      <th></th>\n      <th>std</th>\n      <th>fmr</th>\n    </tr>\n  </thead>\n  <tbody>\n    <tr>\n      <th>Date_round</th>\n      <td>0.000000</td>\n      <td>0.000000</td>\n    </tr>\n    <tr>\n      <th>Perf_1Y</th>\n      <td>0.000000</td>\n      <td>0.000000</td>\n    </tr>\n    <tr>\n      <th>gicsSectorName</th>\n      <td>0.464710</td>\n      <td>0.315488</td>\n    </tr>\n    <tr>\n      <th>gicsIndustryGroupName</th>\n      <td>0.464710</td>\n      <td>0.315488</td>\n    </tr>\n    <tr>\n      <th>gicsIndustryName</th>\n      <td>0.464710</td>\n      <td>0.315488</td>\n    </tr>\n    <tr>\n      <th>gicsSubIndustryName</th>\n      <td>0.464710</td>\n      <td>0.315488</td>\n    </tr>\n    <tr>\n      <th>Country_of_Headquarters</th>\n      <td>0.196098</td>\n      <td>0.040059</td>\n    </tr>\n    <tr>\n      <th>Price_To_Tangible_Book_Value_Per_Share</th>\n      <td>0.371134</td>\n      <td>0.160356</td>\n    </tr>\n    <tr>\n      <th>C_Price_To_Tangible_Book_Value_Per_Share</th>\n      <td>0.371134</td>\n      <td>0.160356</td>\n    </tr>\n    <tr>\n      <th>Price_To_Book_Value_Per_Share</th>\n      <td>0.371144</td>\n      <td>0.160373</td>\n    </tr>\n    <tr>\n      <th>C_Price_To_Book_Value_Per_Share</th>\n      <td>0.371144</td>\n      <td>0.160373</td>\n    </tr>\n    <tr>\n      <th>Enterprise_Value_to_Sales</th>\n      <td>0.396783</td>\n      <td>0.195599</td>\n    </tr>\n    <tr>\n      <th>Price_To_Sales_Per_Share</th>\n      <td>0.396696</td>\n      <td>0.195395</td>\n    </tr>\n    <tr>\n      <th>Company_Shares</th>\n      <td>0.327952</td>\n      <td>0.143236</td>\n    </tr>\n    <tr>\n      <th>Enterprise_Value</th>\n      <td>0.343046</td>\n      <td>0.164423</td>\n    </tr>\n    <tr>\n      <th>Free_Cash_Flow_net_of_Dividends_per_Share</th>\n      <td>0.468758</td>\n      <td>0.354560</td>\n    </tr>\n    <tr>\n      <th>C_Price_to_FCF_net_of_Dividends_per_Share</th>\n      <td>0.468649</td>\n      <td>0.354747</td>\n    </tr>\n    <tr>\n      <th>Enterprise_Value_to_EBITDA</th>\n      <td>0.423262</td>\n      <td>0.267924</td>\n    </tr>\n    <tr>\n      <th>Enterprise_Value_to_Operating_Cash_Flow</th>\n      <td>0.398841</td>\n      <td>0.268792</td>\n    </tr>\n    <tr>\n      <th>Price_to_Cash_Flow_per_Share</th>\n      <td>0.398979</td>\n      <td>0.268536</td>\n    </tr>\n    <tr>\n      <th>P_to_E</th>\n      <td>0.407086</td>\n      <td>0.265167</td>\n    </tr>\n  </tbody>\n</table>\n</div>"
     },
     "execution_count": 16,
     "metadata": {},
     "output_type": "execute_result"
    }
   ],
   "source": [
    "std = np.std(missing_ratio, axis=0)\n",
    "full_missing_ratio = missing_ratio[missing_ratio == 1].count()/missing_ratio.shape[0]\n",
    "pd.DataFrame({'std':std, 'fmr': full_missing_ratio})"
   ],
   "metadata": {
    "collapsed": false,
    "pycharm": {
     "name": "#%%\n"
    }
   }
  },
  {
   "cell_type": "code",
   "execution_count": 17,
   "outputs": [],
   "source": [
    "bad_groups = set(missing_ratio[missing_ratio.gicsSectorName == 1].index)\n",
    "mask = data.RanksID.apply(lambda x: x not in bad_groups)\n",
    "data.loc[~mask, gics_names] = 'unk'\n",
    "\n",
    "bad_groups = set(missing_ratio[missing_ratio.Country_of_Headquarters == 1].index)\n",
    "mask = data.RanksID.apply(lambda x: x not in bad_groups)\n",
    "data.loc[~mask, 'Country_of_Headquarters'] = 'unk'"
   ],
   "metadata": {
    "collapsed": false,
    "pycharm": {
     "name": "#%%\n"
    }
   }
  },
  {
   "cell_type": "code",
   "execution_count": 18,
   "outputs": [
    {
     "data": {
      "text/plain": "  Date_round    RanksID   Perf_1Y gicsSectorName  \\\n0 2007-04-01  000001.SZ  0.625184     Financials   \n1 2007-04-01  000002.SZ  1.390464    Real Estate   \n2 2007-04-01  000004.SZ  0.472222    Health Care   \n3 2007-04-01  000005.SZ  0.623501    Industrials   \n4 2007-04-01  000006.SZ  0.800092    Real Estate   \n\n                            gicsIndustryGroupName  \\\n0                                           Banks   \n1                                     Real Estate   \n2  Pharmaceuticals, Biotechnology & Life Sciences   \n3                                   Capital Goods   \n4                                     Real Estate   \n\n                       gicsIndustryName         gicsSubIndustryName  \\\n0                                 Banks           Diversified Banks   \n1  Real Estate Management & Development     Real Estate Development   \n2                         Biotechnology               Biotechnology   \n3            Construction & Engineering  Construction & Engineering   \n4  Real Estate Management & Development     Real Estate Development   \n\n  Country_of_Headquarters  Price_To_Tangible_Book_Value_Per_Share  \\\n0                   China                                5.996060   \n1                   China                                4.856243   \n2                   China                                9.448818   \n3                   China                                5.022465   \n4                   China                                2.510317   \n\n   C_Price_To_Tangible_Book_Value_Per_Share  ...  Enterprise_Value_to_Sales  \\\n0                                  5.996060  ...                   0.392742   \n1                                  4.856243  ...                   4.309279   \n2                                  9.448818  ...                  13.563795   \n3                                  5.022465  ...                  16.302346   \n4                                  2.510317  ...                   3.625182   \n\n   Price_To_Sales_Per_Share  Company_Shares  Enterprise_Value  \\\n0                  3.044071    1.945822e+09        613.182382   \n1                  4.045947    4.369899e+09       9989.273816   \n2                 14.224793    8.397668e+07         78.937014   \n3                 15.358493    9.143336e+08        743.292317   \n4                  2.878464    2.535916e+08        588.363454   \n\n   Free_Cash_Flow_net_of_Dividends_per_Share  \\\n0                                   0.192733   \n1                                  -0.058324   \n2                                   0.010166   \n3                                   0.000582   \n4                                  -0.055041   \n\n   C_Price_to_FCF_net_of_Dividends_per_Share  Enterprise_Value_to_EBITDA  \\\n0                                   3.525908                    2.013798   \n1                                 -15.332860                   22.403075   \n2                                  96.968115                         NaN   \n3                                1314.996502                         NaN   \n4                                  -6.287248                   15.040551   \n\n   Enterprise_Value_to_Operating_Cash_Flow  Price_to_Cash_Flow_per_Share  \\\n0                                 0.411956                      3.192994   \n1                                      NaN                           NaN   \n2                                12.741018                     13.361920   \n3                               241.367037                    227.392663   \n4                                 6.141771                      5.025410   \n\n      P_to_E  \n0  27.902073  \n1  28.617278  \n2        NaN  \n3        NaN  \n4  16.698514  \n\n[5 rows x 22 columns]",
      "text/html": "<div>\n<style scoped>\n    .dataframe tbody tr th:only-of-type {\n        vertical-align: middle;\n    }\n\n    .dataframe tbody tr th {\n        vertical-align: top;\n    }\n\n    .dataframe thead th {\n        text-align: right;\n    }\n</style>\n<table border=\"1\" class=\"dataframe\">\n  <thead>\n    <tr style=\"text-align: right;\">\n      <th></th>\n      <th>Date_round</th>\n      <th>RanksID</th>\n      <th>Perf_1Y</th>\n      <th>gicsSectorName</th>\n      <th>gicsIndustryGroupName</th>\n      <th>gicsIndustryName</th>\n      <th>gicsSubIndustryName</th>\n      <th>Country_of_Headquarters</th>\n      <th>Price_To_Tangible_Book_Value_Per_Share</th>\n      <th>C_Price_To_Tangible_Book_Value_Per_Share</th>\n      <th>...</th>\n      <th>Enterprise_Value_to_Sales</th>\n      <th>Price_To_Sales_Per_Share</th>\n      <th>Company_Shares</th>\n      <th>Enterprise_Value</th>\n      <th>Free_Cash_Flow_net_of_Dividends_per_Share</th>\n      <th>C_Price_to_FCF_net_of_Dividends_per_Share</th>\n      <th>Enterprise_Value_to_EBITDA</th>\n      <th>Enterprise_Value_to_Operating_Cash_Flow</th>\n      <th>Price_to_Cash_Flow_per_Share</th>\n      <th>P_to_E</th>\n    </tr>\n  </thead>\n  <tbody>\n    <tr>\n      <th>0</th>\n      <td>2007-04-01</td>\n      <td>000001.SZ</td>\n      <td>0.625184</td>\n      <td>Financials</td>\n      <td>Banks</td>\n      <td>Banks</td>\n      <td>Diversified Banks</td>\n      <td>China</td>\n      <td>5.996060</td>\n      <td>5.996060</td>\n      <td>...</td>\n      <td>0.392742</td>\n      <td>3.044071</td>\n      <td>1.945822e+09</td>\n      <td>613.182382</td>\n      <td>0.192733</td>\n      <td>3.525908</td>\n      <td>2.013798</td>\n      <td>0.411956</td>\n      <td>3.192994</td>\n      <td>27.902073</td>\n    </tr>\n    <tr>\n      <th>1</th>\n      <td>2007-04-01</td>\n      <td>000002.SZ</td>\n      <td>1.390464</td>\n      <td>Real Estate</td>\n      <td>Real Estate</td>\n      <td>Real Estate Management &amp; Development</td>\n      <td>Real Estate Development</td>\n      <td>China</td>\n      <td>4.856243</td>\n      <td>4.856243</td>\n      <td>...</td>\n      <td>4.309279</td>\n      <td>4.045947</td>\n      <td>4.369899e+09</td>\n      <td>9989.273816</td>\n      <td>-0.058324</td>\n      <td>-15.332860</td>\n      <td>22.403075</td>\n      <td>NaN</td>\n      <td>NaN</td>\n      <td>28.617278</td>\n    </tr>\n    <tr>\n      <th>2</th>\n      <td>2007-04-01</td>\n      <td>000004.SZ</td>\n      <td>0.472222</td>\n      <td>Health Care</td>\n      <td>Pharmaceuticals, Biotechnology &amp; Life Sciences</td>\n      <td>Biotechnology</td>\n      <td>Biotechnology</td>\n      <td>China</td>\n      <td>9.448818</td>\n      <td>9.448818</td>\n      <td>...</td>\n      <td>13.563795</td>\n      <td>14.224793</td>\n      <td>8.397668e+07</td>\n      <td>78.937014</td>\n      <td>0.010166</td>\n      <td>96.968115</td>\n      <td>NaN</td>\n      <td>12.741018</td>\n      <td>13.361920</td>\n      <td>NaN</td>\n    </tr>\n    <tr>\n      <th>3</th>\n      <td>2007-04-01</td>\n      <td>000005.SZ</td>\n      <td>0.623501</td>\n      <td>Industrials</td>\n      <td>Capital Goods</td>\n      <td>Construction &amp; Engineering</td>\n      <td>Construction &amp; Engineering</td>\n      <td>China</td>\n      <td>5.022465</td>\n      <td>5.022465</td>\n      <td>...</td>\n      <td>16.302346</td>\n      <td>15.358493</td>\n      <td>9.143336e+08</td>\n      <td>743.292317</td>\n      <td>0.000582</td>\n      <td>1314.996502</td>\n      <td>NaN</td>\n      <td>241.367037</td>\n      <td>227.392663</td>\n      <td>NaN</td>\n    </tr>\n    <tr>\n      <th>4</th>\n      <td>2007-04-01</td>\n      <td>000006.SZ</td>\n      <td>0.800092</td>\n      <td>Real Estate</td>\n      <td>Real Estate</td>\n      <td>Real Estate Management &amp; Development</td>\n      <td>Real Estate Development</td>\n      <td>China</td>\n      <td>2.510317</td>\n      <td>2.510317</td>\n      <td>...</td>\n      <td>3.625182</td>\n      <td>2.878464</td>\n      <td>2.535916e+08</td>\n      <td>588.363454</td>\n      <td>-0.055041</td>\n      <td>-6.287248</td>\n      <td>15.040551</td>\n      <td>6.141771</td>\n      <td>5.025410</td>\n      <td>16.698514</td>\n    </tr>\n  </tbody>\n</table>\n<p>5 rows × 22 columns</p>\n</div>"
     },
     "execution_count": 18,
     "metadata": {},
     "output_type": "execute_result"
    }
   ],
   "source": [
    "data.head()"
   ],
   "metadata": {
    "collapsed": false,
    "pycharm": {
     "name": "#%%\n"
    }
   }
  },
  {
   "cell_type": "code",
   "execution_count": 19,
   "outputs": [
    {
     "name": "stdout",
     "output_type": "stream",
     "text": [
      "CPU times: user 1.37 s, sys: 349 ms, total: 1.72 s\n",
      "Wall time: 2 s\n"
     ]
    }
   ],
   "source": [
    "%%time\n",
    "t = data.sort_values(['RanksID', 'Date_round'])"
   ],
   "metadata": {
    "collapsed": false,
    "pycharm": {
     "name": "#%%\n"
    }
   }
  },
  {
   "cell_type": "code",
   "execution_count": 20,
   "outputs": [
    {
     "name": "stdout",
     "output_type": "stream",
     "text": [
      "CPU times: user 6min 28s, sys: 13.3 s, total: 6min 41s\n",
      "Wall time: 7min 51s\n"
     ]
    }
   ],
   "source": [
    "%%time\n",
    "t = t.groupby('RanksID').agg(lambda x: x.interpolate(method='pad', limit_area='inside').tolist())"
   ],
   "metadata": {
    "collapsed": false,
    "pycharm": {
     "name": "#%%\n"
    }
   }
  },
  {
   "cell_type": "code",
   "execution_count": 21,
   "outputs": [
    {
     "name": "stdout",
     "output_type": "stream",
     "text": [
      "CPU times: user 5.07 s, sys: 2.3 s, total: 7.36 s\n",
      "Wall time: 9.2 s\n"
     ]
    }
   ],
   "source": [
    "%%time\n",
    "t = t.apply(pd.Series.explode).reset_index()"
   ],
   "metadata": {
    "collapsed": false,
    "pycharm": {
     "name": "#%%\n"
    }
   }
  },
  {
   "cell_type": "code",
   "execution_count": 23,
   "outputs": [
    {
     "name": "stdout",
     "output_type": "stream",
     "text": [
      "CPU times: user 4min 30s, sys: 13.3 s, total: 4min 43s\n",
      "Wall time: 5min\n"
     ]
    }
   ],
   "source": [
    "%%time\n",
    "cols = reg_columns\n",
    "nan_mask = t[cols].isna()\n",
    "mean_by_days = t[cols + ['Date_round']].groupby('Date_round').mean()\n",
    "\n",
    "clear_data = t[cols].copy()\n",
    "clear_data[nan_mask] = t[cols  + ['Date_round']].apply(lambda x: mean_by_days.loc[x.Date_round], axis=1)[cols]\n",
    "clear_data = pd.merge(clear_data, t[['Date_round', 'RanksID', 'Perf_1Y'] + cat_columns], left_index=True, right_index=True)"
   ],
   "metadata": {
    "collapsed": false,
    "pycharm": {
     "name": "#%%\n"
    }
   }
  },
  {
   "cell_type": "code",
   "execution_count": 24,
   "outputs": [
    {
     "data": {
      "text/plain": "Price_To_Tangible_Book_Value_Per_Share       0\nC_Price_To_Tangible_Book_Value_Per_Share     0\nPrice_To_Book_Value_Per_Share                0\nC_Price_To_Book_Value_Per_Share              0\nEnterprise_Value_to_Sales                    0\nPrice_To_Sales_Per_Share                     0\nCompany_Shares                               0\nEnterprise_Value                             0\nFree_Cash_Flow_net_of_Dividends_per_Share    0\nC_Price_to_FCF_net_of_Dividends_per_Share    0\nEnterprise_Value_to_EBITDA                   0\nEnterprise_Value_to_Operating_Cash_Flow      0\nPrice_to_Cash_Flow_per_Share                 0\nP_to_E                                       0\nDate_round                                   0\nRanksID                                      0\nPerf_1Y                                      0\ngicsSectorName                               0\ngicsIndustryGroupName                        0\ngicsIndustryName                             0\ngicsSubIndustryName                          0\nCountry_of_Headquarters                      0\ndtype: int64"
     },
     "execution_count": 24,
     "metadata": {},
     "output_type": "execute_result"
    }
   ],
   "source": [
    "clear_data.isna().sum()"
   ],
   "metadata": {
    "collapsed": false,
    "pycharm": {
     "name": "#%%\n"
    }
   }
  },
  {
   "cell_type": "code",
   "execution_count": 24,
   "outputs": [
    {
     "data": {
      "text/plain": "RanksID                                           0\nDate_round                                        0\nPerf_1Y                                           0\ngicsSectorName                               274113\ngicsIndustryGroupName                        274113\ngicsIndustryName                             274113\ngicsSubIndustryName                          274113\nCountry_of_Headquarters                       58247\nPrice_To_Tangible_Book_Value_Per_Share       165647\nC_Price_To_Tangible_Book_Value_Per_Share     165647\nPrice_To_Book_Value_Per_Share                165740\nC_Price_To_Book_Value_Per_Share              165740\nEnterprise_Value_to_Sales                    216962\nPrice_To_Sales_Per_Share                     216628\nCompany_Shares                               125413\nEnterprise_Value                             138377\nFree_Cash_Flow_net_of_Dividends_per_Share    352638\nC_Price_to_FCF_net_of_Dividends_per_Share    353015\nEnterprise_Value_to_EBITDA                   350858\nEnterprise_Value_to_Operating_Cash_Flow      373994\nPrice_to_Cash_Flow_per_Share                 373717\nP_to_E                                       390708\ndtype: int64"
     },
     "execution_count": 24,
     "metadata": {},
     "output_type": "execute_result"
    }
   ],
   "source": [
    "t.isna().sum()"
   ],
   "metadata": {
    "collapsed": false,
    "pycharm": {
     "name": "#%%\n"
    }
   }
  },
  {
   "cell_type": "code",
   "execution_count": 25,
   "outputs": [],
   "source": [
    "clear_data.to_csv(join(data_path, 'clear_data.csv'), index=False)"
   ],
   "metadata": {
    "collapsed": false,
    "pycharm": {
     "name": "#%%\n"
    }
   }
  }
 ],
 "metadata": {
  "kernelspec": {
   "display_name": "Python 3",
   "language": "python",
   "name": "python3"
  },
  "language_info": {
   "codemirror_mode": {
    "name": "ipython",
    "version": 2
   },
   "file_extension": ".py",
   "mimetype": "text/x-python",
   "name": "python",
   "nbconvert_exporter": "python",
   "pygments_lexer": "ipython2",
   "version": "2.7.6"
  }
 },
 "nbformat": 4,
 "nbformat_minor": 0
}